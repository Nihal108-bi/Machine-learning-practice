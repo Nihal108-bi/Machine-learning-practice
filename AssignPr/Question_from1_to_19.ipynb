{
 "cells": [
  {
   "cell_type": "markdown",
   "metadata": {},
   "source": [
    "Question 1.1: Write the Answer to these questions.  \n",
    "Note: Give at least one example for each of the questions\n"
   ]
  },
  {
   "cell_type": "markdown",
   "metadata": {},
   "source": [
    "Q:  What is the difference between static and dynamic variables in Python\n",
    "\n",
    "A:\n",
    "Static Variables: Variables that are shared among all instances of a class. They are defined inside a class but outside any instance methods.\n",
    "Dynamic Variables: Variables that are instance-specific and can be different for each instance of a class.\n"
   ]
  },
  {
   "cell_type": "code",
   "execution_count": 1,
   "metadata": {},
   "outputs": [
    {
     "name": "stdout",
     "output_type": "stream",
     "text": [
      "I am static\n",
      "I am static\n",
      "Dynamic 1\n",
      "Dynamic 2\n"
     ]
    }
   ],
   "source": [
    "#eg\n",
    "class Example:\n",
    "    static_var='I am static'\n",
    "    def __init__(self, dynamic_var):\n",
    "        self.dynamic_var=dynamic_var\n",
    "\n",
    "e1=Example(\"Dynamic 1\")\n",
    "e2=Example(\"Dynamic 2\")\n",
    "print(e1.static_var) \n",
    "print(e2.static_var)  \n",
    "print(e1.dynamic_var) \n",
    "print(e2.dynamic_var)\n"
   ]
  },
  {
   "cell_type": "code",
   "execution_count": 3,
   "metadata": {},
   "outputs": [
    {
     "name": "stdout",
     "output_type": "stream",
     "text": [
      "2\n",
      "{'a': 1, 'c': 3}\n",
      "not found\n",
      "{'a': 1, 'c': 3}\n"
     ]
    }
   ],
   "source": [
    "#Q:-Explain the purpose of 'pop','popitem','clear()' in a dictionary with suitable examples.\n",
    "\n",
    "#ANS:-\n",
    "'''pop()\n",
    "The pop() method removes a specified key from the dictionary and returns the corresponding value. If the key is not found, it raises a KeyError, unless a default value is provided.'''\n",
    "#eg\n",
    "my_dict={'a':1,'b':2,'c':3}\n",
    "Value=my_dict.pop('b')\n",
    "print(Value)\n",
    "print(my_dict)\n",
    "\n",
    "#using a default Value if the key is not present\n",
    "Value=my_dict.pop('d','not found')\n",
    "print(Value)\n",
    "print(my_dict)\n"
   ]
  },
  {
   "cell_type": "code",
   "execution_count": 5,
   "metadata": {},
   "outputs": [
    {
     "name": "stdout",
     "output_type": "stream",
     "text": [
      "('c', 3)\n",
      "{'a': 1, 'b': 2}\n"
     ]
    }
   ],
   "source": [
    "'''popitem()\n",
    "The popitem() method removes and returns the last inserted key-value pair as a tuple. This method is useful in Python 3.7 and later versions where dictionaries maintain insertion order. If the dictionary is empty, it raises a KeyError.'''\n",
    "my_dict = {'a': 1, 'b': 2, 'c': 3}\n",
    "item = my_dict.popitem()\n",
    "print(item)  \n",
    "print(my_dict) "
   ]
  },
  {
   "cell_type": "code",
   "execution_count": 6,
   "metadata": {},
   "outputs": [
    {
     "name": "stdout",
     "output_type": "stream",
     "text": [
      "{}\n"
     ]
    }
   ],
   "source": [
    "'''clear()\n",
    "The clear() method removes all items from the dictionary, leaving it empty'''\n",
    "my_dict = {'a': 1, 'b': 2, 'c': 3}\n",
    "my_dict.clear()\n",
    "print(my_dict)"
   ]
  },
  {
   "cell_type": "code",
   "execution_count": 7,
   "metadata": {},
   "outputs": [
    {
     "name": "stdout",
     "output_type": "stream",
     "text": [
      "frozenset({1, 2, 3, 4, 5})\n",
      "frozenset({1, 2, 3})\n",
      "frozenset({1, 2, 3})\n"
     ]
    }
   ],
   "source": [
    "#Q:-What do mean by FrozenSet? Explain it with suitable examples.\n",
    "#ANS:-\n",
    "'''A frozenset in Python is an immutable version of a set. Like sets, frozensets are collections of unique elements, but unlike sets, they cannot be modified after creation. This immutability makes frozensets hashable, meaning they can be used as keys in dictionaries or as elements in other sets.'''\n",
    "#Eg:-\n",
    "# Creating a frozenset from a list\n",
    "frozen_set = frozenset([1, 2, 3, 4, 4, 5])\n",
    "print(frozen_set) \n",
    "\n",
    "# Creating a frozenset from a set\n",
    "frozen_set = frozenset({1, 2, 3})\n",
    "print(frozen_set)  \n",
    "\n",
    "# Creating a frozenset from a tuple\n",
    "frozen_set = frozenset((1, 2, 2, 3))\n",
    "print(frozen_set)  \n"
   ]
  },
  {
   "cell_type": "code",
   "execution_count": null,
   "metadata": {},
   "outputs": [],
   "source": [
    "#Q:- Differentiate between mutable and immutable data types in pyhton and give examples of mutable and immutable data types?\n",
    "#Ans:-\n",
    "#  Mutable data types are those data types which can be changed\n",
    "#Immutable data types are those data types which cannot be changed"
   ]
  },
  {
   "cell_type": "code",
   "execution_count": 8,
   "metadata": {},
   "outputs": [
    {
     "name": "stdout",
     "output_type": "stream",
     "text": [
      "[1, 2, 3, 4]\n",
      "{'a': 1, 'b': 2}\n",
      "{1, 2, 3}\n",
      "(1, 2, 3)\n"
     ]
    }
   ],
   "source": [
    "#example for mutable:-\n",
    "#LIST\n",
    "my_list = [1, 2, 3]\n",
    "my_list.append(4)  # List is modified\n",
    "print(my_list)  # Output: [1, 2, 3, 4]\n",
    "\n",
    "#Dictionary:\n",
    "my_dict = {'a': 1}\n",
    "my_dict['b'] = 2  # Dictionary is modified\n",
    "print(my_dict)  # Output: {'a': 1, 'b': 2}\n",
    "\n",
    "#Set:\n",
    "my_set = {1, 2}\n",
    "my_set.add(3)  # Set is modified\n",
    "print(my_set)  # Output: {1, 2, 3}\n",
    "\n",
    "\n",
    "#Example for immutable:-\n",
    "#Tupple:\n",
    "my_tuple = (1, 2, 3)\n",
    "# my_tuple[1] = 4  # Raises TypeError\n",
    "print(my_tuple)  # Output: (1, 2, 3)\n",
    "\n"
   ]
  },
  {
   "cell_type": "code",
   "execution_count": 1,
   "metadata": {},
   "outputs": [
    {
     "name": "stdout",
     "output_type": "stream",
     "text": [
      "Nihal\n",
      "22\n"
     ]
    }
   ],
   "source": [
    "#Q:- What is __init__? Explain with example.\n",
    "#Ans:- The __init__ method is a special method in Python classes, known as a constructor. It initializes a newly created object and is called automatically when an object is instantiated.\n",
    "#eg:-\n",
    "\n",
    "class person:\n",
    "    def __init__(self,name,age):\n",
    "        self.name=name\n",
    "        self.age=age\n",
    "\n",
    "#creating an instance of person class\n",
    "person1 =person('Nihal',22)\n",
    "print(person1.name) \n",
    "print(person1.age)       "
   ]
  },
  {
   "cell_type": "code",
   "execution_count": 2,
   "metadata": {},
   "outputs": [
    {
     "name": "stdout",
     "output_type": "stream",
     "text": [
      "\n",
      "    Add two numbers and return the result.\n",
      "\n",
      "    Parameters:\n",
      "    a (int): The first number.\n",
      "    b (int): The second number.\n",
      "\n",
      "    Returns:\n",
      "    int: The sum of the two numbers.\n",
      "    \n"
     ]
    }
   ],
   "source": [
    "#Q:- What is Docstring in python ?Explain with example\n",
    "#Ans:\n",
    "#Definition: A docstring is a string literal used to document a module, class, method, or function in Python. It is placed immediately after the definition and is enclosed in triple quotes (\"\"\" or '''). Docstrings provide a convenient way to associate documentation with code.\n",
    "\n",
    "#eg:-\n",
    "def add(a,b):\n",
    "    \"\"\"\n",
    "    Add two numbers and return the result.\n",
    "\n",
    "    Parameters:\n",
    "    a (int): The first number.\n",
    "    b (int): The second number.\n",
    "\n",
    "    Returns:\n",
    "    int: The sum of the two numbers.\n",
    "    \"\"\"\n",
    "    return a + b\n",
    "\n",
    "print(add.__doc__)"
   ]
  },
  {
   "cell_type": "code",
   "execution_count": null,
   "metadata": {},
   "outputs": [],
   "source": [
    "#Q:- What is the unit tests in python?\n",
    "#Ans:-\n",
    "'''Definition: Unit tests are used to test individual units of code (such as functions or methods) to ensure they work correctly. They are a part of test-driven development and help in verifying that each component of the program functions as expected.\n",
    "\n",
    "Key Features:\n",
    "\n",
    "Isolation: Tests are designed to check a single unit of code in isolation from other units.\n",
    "Automated: Unit tests can be run automatically to check code correctness.\n",
    "Framework: Python provides a built-in framework called unittest for writing and running tests.'''"
   ]
  },
  {
   "cell_type": "code",
   "execution_count": 3,
   "metadata": {},
   "outputs": [
    {
     "name": "stderr",
     "output_type": "stream",
     "text": [
      "C:\\Users\\Lenovo\\AppData\\Local\\Temp\\ipykernel_12440\\1374953401.py:9: DeprecationWarning: unittest.makeSuite() is deprecated and will be removed in Python 3.13. Please use unittest.TestLoader.loadTestsFromTestCase() instead.\n",
      "  runner.run(unittest.makeSuite(TestMultiplyFunction))\n",
      "E\n",
      "======================================================================\n",
      "ERROR: test_multiply_positive_numbers (__main__.TestMultiplyFunction.test_multiply_positive_numbers)\n",
      "----------------------------------------------------------------------\n",
      "Traceback (most recent call last):\n",
      "  File \"C:\\Users\\Lenovo\\AppData\\Local\\Temp\\ipykernel_12440\\1374953401.py\", line 5, in test_multiply_positive_numbers\n",
      "    self.assertEqual(multiply(2,3),6)\n",
      "                     ^^^^^^^^\n",
      "NameError: name 'multiply' is not defined\n",
      "\n",
      "----------------------------------------------------------------------\n",
      "Ran 1 test in 0.003s\n",
      "\n",
      "FAILED (errors=1)\n"
     ]
    }
   ],
   "source": [
    "#eg:\n",
    "import unittest\n",
    "class TestMultiplyFunction(unittest.TestCase):\n",
    "    def test_multiply_positive_numbers(self):\n",
    "        self.assertEqual(multiply(2,3),6)\n",
    "\n",
    "if __name__=='__main__':\n",
    "    runner = unittest.TextTestRunner()\n",
    "    runner.run(unittest.makeSuite(TestMultiplyFunction))       "
   ]
  },
  {
   "cell_type": "code",
   "execution_count": 5,
   "metadata": {},
   "outputs": [
    {
     "name": "stdout",
     "output_type": "stream",
     "text": [
      "0\n",
      "1\n",
      "2\n",
      "3\n",
      "4\n",
      "\n",
      "1\n",
      "3\n",
      "5\n",
      "7\n",
      "9\n",
      "\n",
      "1\n",
      "3\n",
      "5\n",
      "7\n",
      "9\n"
     ]
    }
   ],
   "source": [
    "#Q:- What is break, continue and pass in python?\n",
    "#Ans:-\n",
    "'''break\n",
    "Definition: The break statement is used to exit a loop prematurely when a certain condition is met.'''\n",
    "#eg:\n",
    "for i in range(10):\n",
    "    if i == 5:\n",
    "        break\n",
    "    print(i)\n",
    "print()    \n",
    "\n",
    "'''continue\n",
    "Definition: The continue statement skips the rest of the code inside the current loop iteration and moves to the next iteration.'''\n",
    "#eg:-\n",
    "for i in range(10):\n",
    "    if i % 2 == 0:\n",
    "        continue\n",
    "    print(i)\n",
    "print()\n",
    "\n",
    "'''pass\n",
    "Definition: The pass statement is a null operation; it is used when a statement is required syntactically but you don't want any command or code to execute.'''\n",
    "#eg:-\n",
    "for i in range(10):\n",
    "    if i % 2 == 0:\n",
    "        pass  # Do nothing\n",
    "    else:\n",
    "        print(i)"
   ]
  },
  {
   "cell_type": "code",
   "execution_count": 6,
   "metadata": {},
   "outputs": [
    {
     "name": "stdout",
     "output_type": "stream",
     "text": [
      "Nihal\n",
      "22\n"
     ]
    }
   ],
   "source": [
    "#Q: what is the use of self in pyhton?\n",
    "#ans:-\n",
    "'''self in Python:\n",
    "\n",
    "Definition: self is a conventional name for the first parameter of instance methods in Python classes. It refers to the instance of the class itself and is used to access variables and methods associated with the current object.'''\n",
    "#eg:\n",
    "class person:\n",
    "    def __init__(self,name,age):\n",
    "        self.name=name\n",
    "        self.age=age\n",
    "\n",
    "#creating an instance of person class\n",
    "person1 =person('Nihal',22)\n",
    "print(person1.name) \n",
    "print(person1.age) \n"
   ]
  },
  {
   "cell_type": "code",
   "execution_count": 1,
   "metadata": {},
   "outputs": [
    {
     "name": "stdout",
     "output_type": "stream",
     "text": [
      "I am global\n",
      "I am global\n"
     ]
    }
   ],
   "source": [
    "#Q: What is global,protected and pritvate attributes in python??\n",
    "#Ans:\n",
    "'''1. Global Attributes\n",
    "Definition: Global attributes (or variables) are defined outside of any function or class and can be accessed from anywhere in the module.'''\n",
    "#eg:\n",
    "global_var='I am global'\n",
    "def func():\n",
    "    print(global_var)\n",
    "\n",
    "class Myclass:\n",
    "    def method(self):\n",
    "        print(global_var)  \n",
    "\n",
    "func()\n",
    "obj=Myclass()\n",
    "obj.method()"
   ]
  },
  {
   "cell_type": "code",
   "execution_count": 2,
   "metadata": {},
   "outputs": [
    {
     "name": "stdout",
     "output_type": "stream",
     "text": [
      "I am protected\n"
     ]
    }
   ],
   "source": [
    "'''2.Protected Attributes\n",
    "Definition: Protected attributes are intended to be accessed within the class and its subclasses. By convention, their names start with a single underscore _'''\n",
    "#eg:\n",
    "class Parent:\n",
    "    def __init__(self):\n",
    "        self._protected_var='I am protected'\n",
    "\n",
    "class child(Parent):\n",
    "    def display(self):\n",
    "        print(self._protected_var)   \n",
    "\n",
    "\n",
    "parent=Parent()\n",
    "Child=child()     \n",
    "Child.display()        # Output: I am protected"
   ]
  },
  {
   "cell_type": "code",
   "execution_count": 5,
   "metadata": {},
   "outputs": [
    {
     "name": "stdout",
     "output_type": "stream",
     "text": [
      "I am private\n",
      "I am private\n"
     ]
    }
   ],
   "source": [
    "'''3. Private Attributes\n",
    "Definition: Private attributes are intended to be accessed only within the class where they are defined. Their names start with a double underscore __.'''\n",
    "#eg:\n",
    "class Myclass:\n",
    "    def __init__(self):\n",
    "        self.__private_var='I am private'\n",
    "\n",
    "    def get_private_var(self):\n",
    "        return self.__private_var \n",
    "\n",
    "obj = Myclass()\n",
    "# print(obj.__private_var)  # Raises AttributeError\n",
    "print(obj.get_private_var())  # Output: I am private\n",
    "\n",
    "# Name mangling allows access, but it's not recommended:\n",
    "print(obj._Myclass__private_var)  # Output: I am private"
   ]
  },
  {
   "cell_type": "code",
   "execution_count": null,
   "metadata": {},
   "outputs": [],
   "source": [
    "#Q:What is modules and packages in python?\n",
    "#Ans:-\n",
    "'''Modules:\n",
    "\n",
    "Definition: A module is a single file containing Python code. It can define functions, classes, and variables. Modules allow for code reuse and organization.'''\n",
    "# my_module.py\n",
    "def greet(name):\n",
    "    return f\"Hello, {name}!\"\n",
    "\n",
    "# main.py\n",
    "import my_module\n",
    "\n",
    "print(my_module.greet(\"Alice\"))  # Output: Hello, Alice!\n",
    "\n",
    "\n",
    "'''Packages:\n",
    "\n",
    "Definition: A package is a collection of modules organized in directories that include a special __init__.py file. Packages allow for a hierarchical structuring of the module namespace.'''\n",
    "# my_package/module1.py              #creating module in my_package\n",
    "def func1():\n",
    "    return \"Function 1\"\n",
    "\n",
    "# my_package/module2.py\n",
    "def func2():\n",
    "    return \"Function 2\"\n",
    "\n",
    "# main.py\n",
    "from my_package import module1, module2\n",
    "\n",
    "print(module1.func1())  # Output: Function 1\n",
    "print(module2.func2())  # Output: Function 2\n",
    "\n"
   ]
  },
  {
   "cell_type": "code",
   "execution_count": null,
   "metadata": {},
   "outputs": [],
   "source": [
    "#Q: What are lists and tuples? what is the key differnce between them?\n",
    "#Ans:-\n",
    "'''Lists:\n",
    "\n",
    "Definition: Lists are ordered, mutable collections of items. They can contain elements of different data types.\n",
    "Syntax: Defined using square brackets [].'''\n",
    "#Eg:\n",
    "my_list = [1, 2, 3, \"apple\", [5, 6]]\n",
    "my_list[0] = \"one\"  # Lists are mutable\n",
    "print(my_list)  # Output: ['one', 2, 3, 'apple', [5, 6]]\n",
    "\n",
    "'''Tuples:\n",
    "\n",
    "Definition: Tuples are ordered, immutable collections of items. They can also contain elements of different data types.\n",
    "Syntax: Defined using parentheses ().'''\n",
    "#Eg:\n",
    "my_tuple = (1, 2, 3, \"apple\", (5, 6))\n",
    "# my_tuple[0] = \"one\"  # Raises TypeError: Tuples are immutable\n",
    "print(my_tuple)  # Output: (1, 2, 3, 'apple', (5, 6))\n"
   ]
  },
  {
   "cell_type": "code",
   "execution_count": 7,
   "metadata": {},
   "outputs": [
    {
     "name": "stdout",
     "output_type": "stream",
     "text": [
      "Hello, Alice\n",
      "\n",
      "42\n",
      "Python\n"
     ]
    }
   ],
   "source": [
    "#Q:- What is an interpreted language & dynamically typed language? Write 5 differnce between them.\n",
    "#Ans:\n",
    "'''Interpreted Language:\n",
    "An interpreted language is a type of programming language where most of its implementations execute instructions directly, without the need for prior compilation into machine-language instructions. In an interpreted language, the code is executed line by line by an interpreter at runtime, which means the program can be run directly from the source code. This allows for easier debugging and platform independence, as the same code can run on any system with the appropriate interpreter.\n",
    "\n",
    "Dynamically Typed Language:\n",
    "A dynamically typed language is a language in which variables do not have a fixed type and can be reassigned to different types during execution. In such languages, type checking is performed at runtime as opposed to compile-time. This provides flexibility, as variables can change types, but it may also lead to runtime type errors if types are not managed carefully.'''\n",
    "\n",
    "#pyhton is Interpreted and Dynamicallly typed languge\n",
    "\n",
    "#Eg:-\n",
    "# Interpreted Language Example\n",
    "def greet(name):\n",
    "    print(f\"Hello, {name}\")\n",
    "greet(\"Alice\")  \n",
    "\n",
    "# Dynamically Typed Language Example\n",
    "print()\n",
    "x = 42  # x is an integer\n",
    "print(x)  \n",
    "\n",
    "x = \"Python\"  # Now x is a string\n",
    "print(x)  \n",
    "\n",
    "'''Differences between Interpreted and Dynamically Typed Languages:\n",
    "1.Definition:\n",
    "Interpreted Language: Refers to the method of execution, where code is executed line by line by an interpreter.\n",
    "Dynamically Typed Language: Refers to how the language handles variable types, allowing them to be determined at runtime.\n",
    "\n",
    "2.Execution:\n",
    "Interpreted Language: Code is executed directly by an interpreter. There is no need for prior compilation.\n",
    "Dynamically Typed Language: Variables can change types dynamically during program execution. The type is checked during runtime.\n",
    "\n",
    "3.Performance:\n",
    "Interpreted Language: Generally slower execution compared to compiled languages because each instruction is parsed and executed on the fly.\n",
    "Dynamically Typed Language: Performance can vary; type checking at runtime can introduce overhead, but it allows for more flexible and quicker coding.\n",
    "\n",
    "4.Flexibility:\n",
    "Interpreted Language: Platform-independent code, as the interpreter can run the same code on different platforms.\n",
    "Dynamically Typed Language: Variables can hold any type of data at different times, providing flexibility but requiring careful management to avoid type errors.\n",
    "\n",
    "5.Debugging and Development:\n",
    "Interpreted Language: Easier debugging and immediate execution make it suitable for scripting and rapid development.\n",
    "Dynamically Typed Language: Simplified variable declarations and flexibility in variable usage, but potential for runtime errors if types are not managed correctly.'''\n"
   ]
  },
  {
   "cell_type": "code",
   "execution_count": 10,
   "metadata": {},
   "outputs": [
    {
     "name": "stdout",
     "output_type": "stream",
     "text": [
      "[0, 1, 4, 9, 16, 25, 36, 49, 64, 81]\n",
      "\n",
      "[0, 1, 4, 9, 16, 25, 36, 49, 64, 81]\n"
     ]
    }
   ],
   "source": [
    "#Q:-What are Dict and List comprehensions?\n",
    "#Ans:-\n",
    "'''List Comprehensions:\n",
    "\n",
    "Definition: List comprehensions provide a concise way to create lists. They consist of brackets containing an expression followed by a for clause, and can include optional if clauses.'''\n",
    "#Eg:\n",
    "#Traditional way\n",
    "square=[]\n",
    "for x in range(10):\n",
    "    square.append(x**2)\n",
    "print(square)    \n",
    "\n",
    "#List comprehensions way\n",
    "print()\n",
    "square=[x**2 for x in range(10)]\n",
    "print(square)"
   ]
  },
  {
   "cell_type": "code",
   "execution_count": 12,
   "metadata": {},
   "outputs": [
    {
     "name": "stdout",
     "output_type": "stream",
     "text": [
      "{0: 0, 1: 1, 2: 4, 3: 9, 4: 16, 5: 25, 6: 36, 7: 49, 8: 64, 9: 81}\n",
      "\n",
      "{0: 0, 1: 1, 2: 4, 3: 9, 4: 16, 5: 25, 6: 36, 7: 49, 8: 64, 9: 81}\n"
     ]
    }
   ],
   "source": [
    "'''Dict Comprehensions:\n",
    "\n",
    "Definition: Dictionary comprehensions provide a concise way to create dictionaries. They follow a similar syntax to list comprehensions but use curly braces {} and key-value pairs.'''\n",
    "#Eg:\n",
    "#Traditional way\n",
    "square_dict={}\n",
    "for x in range(10):\n",
    "    square_dict[x]=x**2\n",
    "print(square_dict) \n",
    "\n",
    "print()\n",
    "#Dict comprehension way\n",
    "square_dict={x:x**2 for x in range(10)}\n",
    "print(square_dict)"
   ]
  },
  {
   "cell_type": "code",
   "execution_count": 17,
   "metadata": {},
   "outputs": [
    {
     "name": "stdout",
     "output_type": "stream",
     "text": [
      "Something is happing before the function called\n",
      "Hello nihal\n",
      "Somthing is happing after the function called\n"
     ]
    }
   ],
   "source": [
    "#Q:-What are decorators in python? Explain it with an example.Write down its use cases.\n",
    "#Ans:-\n",
    "'''decorators are apowerful and useful tool in python that takes programmers to the modify the behaor of a function or class. Decorators are functions that take another function(or class) as an argument, and return a new function(or class) with additional or altered functionality.\n",
    "How Decorators Work:\n",
    "\n",
    "1.Function Decorators:\n",
    "A decorator function takes a function as an argument, adds some functionality to it, and returns the modified function.\n",
    "\n",
    "2.Syntax:\n",
    "The @decorator_name syntax is used to apply a decorator to a function.'''\n",
    "#eg:\n",
    "def my_decorator(func):\n",
    "    def wrapper():\n",
    "        print(\"Something is happing before the function called\")\n",
    "        func()\n",
    "        print(\"Somthing is happing after the function called\")\n",
    "    return wrapper\n",
    "\n",
    "@my_decorator\n",
    "def say_hello():\n",
    "    print(\"Hello nihal\")\n",
    "\n",
    "say_hello()  \n",
    "\n",
    "#Note>>Here, my_decorator is a function that adds some behavior before and after the say_hello function is called.\n",
    "#usecases>> Decorators in python a flexible and readble way to extend or modify the behavior of functions and mehtods. They arewidely used for cross-cutting concerns such as logginh, access control, perfomance monitoring , and more."
   ]
  },
  {
   "cell_type": "code",
   "execution_count": 24,
   "metadata": {},
   "outputs": [
    {
     "name": "stdout",
     "output_type": "stream",
     "text": [
      "0\n",
      "0\n"
     ]
    }
   ],
   "source": [
    "#Q:How is memory managed in python??\n",
    "#Ans:-\n",
    "''' Pyhton uses a prite heap to manage memory . The prite heap is a pool of memory  that is allocated by the pyhton interpreter for its own use. When you crate an objest in pyhton, the interpreter allocates memory fo that object from the private heap.\n",
    "\n",
    "<<Memory Allocation>>\n",
    "#When you create an object in Python, the interpreter allocates memory for that object using the following steps:\n",
    "1.Request Memory: The Python interpreter requests a block of memory from the operating system.\n",
    "2.Split the Block: The interpreter splits the block of memory into smaller chunks, called \"arenas\".\n",
    "3.Allocate Object Memory: The interpreter allocates memory for the object from one of the arenas.\n",
    "\n",
    "<<Memory Deallocation>>\n",
    "#When an object is no longer needed, the interpreter deallocates its memory using the following steps:\n",
    "1.Reference Counting: The interpreter keeps track of the number of references to the object. When the reference count reaches zero, the object is eligible for deallocation.\n",
    "2.Garbage Collection: The interpreter periodically runs a garbage collector to identify objects that are no longer referenced and deallocates their memory.'''\n",
    "\n",
    "#eg:\n",
    "\n",
    "import gc\n",
    "#create a list\n",
    "my_list=[1,2,3,4,5,'nj']\n",
    "\n",
    "#create a reference to the list\n",
    "my_ref=my_list\n",
    "\n",
    "#print the number of unreachable objects\n",
    "print(gc.collect())\n",
    "\n",
    "#Delete the reference to the list\n",
    "del my_list\n",
    "#print the number of unreachable objects\n",
    "print(gc.collect())\n"
   ]
  },
  {
   "cell_type": "code",
   "execution_count": 1,
   "metadata": {},
   "outputs": [
    {
     "name": "stdout",
     "output_type": "stream",
     "text": [
      "8\n"
     ]
    }
   ],
   "source": [
    "#Q: What is lambda in pyhton? why is it used?\n",
    "#Ans:\n",
    "'''Definition:\n",
    "\n",
    "A lambda function is a small anonymous function defined using the lambda keyword. Unlike regular functions defined with def, lambda functions are syntactically restricted to a single expression. They are also known as anonymous functions because they do not have a name.\n",
    "Syntax:\n",
    "<<lambda arguments: expression>>\n",
    "\n",
    "Why Use Lambda Functions?\n",
    "1.Conciseness:\n",
    "Lambda functions provide a concise way to create small functions for short-term use without formally defining them using def.\n",
    "\n",
    "2.Functional Programming:\n",
    "Lambdas are often used in functional programming paradigms, where functions are passed as arguments to higher-order functions such as map(), filter(), and reduce().\n",
    "\n",
    "3.Inline Functions:\n",
    "Useful for creating small, throwaway functions that are not reused elsewhere in the code.'''\n",
    "\n",
    "#Eg:\n",
    "add=lambda x,y: x + y\n",
    "print(add(5,3))"
   ]
  },
  {
   "cell_type": "code",
   "execution_count": 5,
   "metadata": {},
   "outputs": [
    {
     "name": "stdout",
     "output_type": "stream",
     "text": [
      "['Hello,', 'how', 'are', 'you?']\n",
      "['apple', 'banana', 'cherry']\n"
     ]
    }
   ],
   "source": [
    "#Q: Explain split() and join() function in python??\n",
    "#AnS:\n",
    "'''split() Function:\n",
    "\n",
    "Definition: The split() method in Python is used to split a string into a list of substrings based on a specified delimiter (separator). If no delimiter is provided, it splits the string by any whitespace.'''\n",
    "#Eg:\n",
    "#basic use\n",
    "text=\"Hello, how are you?\"\n",
    "word=text.split()\n",
    "print(word)\n",
    "\n",
    "#using delimiter\n",
    "text='apple,banana,cherry'\n",
    "fruits=text.split(',')\n",
    "print(fruits)"
   ]
  },
  {
   "cell_type": "code",
   "execution_count": 9,
   "metadata": {},
   "outputs": [
    {
     "name": "stdout",
     "output_type": "stream",
     "text": [
      "Hello world\n",
      "apple-mango-grapes-banana\n",
      "Nihal\n"
     ]
    }
   ],
   "source": [
    "'''join() Function:\n",
    "\n",
    "Definition: The join() method in Python is used to concatenate (join) the elements of a sequence (like a list or tuple) into a single string, with a specified separator between each element.\n",
    "<<Syntax: separator.join(iterable)>>\n",
    "1.separator: Specifies the string to be inserted between each element.\n",
    "2.iterable: Specifies the sequence of elements to be joined.'''\n",
    "#Eg:-\n",
    "#Basic use\n",
    "words=['Hello','world']\n",
    "print(' '.join(words))                      #Hello world\n",
    "\n",
    "#joining with a different Separtor\n",
    "items=['apple','mango','grapes','banana']\n",
    "print('-'.join(items))                       #apple-mango-grapes-banana\n",
    "\n",
    "#joining characters:\n",
    "char=['N','i','h','a','l']\n",
    "print(''.join(char))                         #Nihal "
   ]
  },
  {
   "cell_type": "code",
   "execution_count": 11,
   "metadata": {},
   "outputs": [
    {
     "name": "stdout",
     "output_type": "stream",
     "text": [
      "3\n",
      "4\n",
      "5\n",
      "nihal\n"
     ]
    }
   ],
   "source": [
    "#Q:- What are iterators, iterable and generators in python?\n",
    "#Ans:\n",
    "'''Iterators:\n",
    "\n",
    "Definition: An iterator is an object that represents a stream of data. It is an object which implements the iterator protocol, consisting of the methods __iter__() and __next__().\n",
    "Usage: Iterators are used to traverse through all the elements of a collection (like lists, tuples, or dictionaries).'''\n",
    "#eg:\n",
    "list=[3,4,5,'nihal']\n",
    "my_iter=iter(list)\n",
    "print(next(my_iter))\n",
    "print(next(my_iter))\n",
    "print(next(my_iter))\n",
    "print(next(my_iter))"
   ]
  },
  {
   "cell_type": "code",
   "execution_count": 12,
   "metadata": {},
   "outputs": [
    {
     "name": "stdout",
     "output_type": "stream",
     "text": [
      "1\n",
      "2\n",
      "3\n"
     ]
    }
   ],
   "source": [
    "'''Iterables:\n",
    "\n",
    "Definition: An iterable is any Python object capable of returning its members one at a time, permitting it to be iterated over in a for-loop. It implements the __iter__() method which returns an iterator.\n",
    "Usage: Common iterable objects include lists, tuples, strings, and dictionaries.'''\n",
    "#eg:\n",
    "my_list = [1, 2, 3]\n",
    "for item in my_list:\n",
    "    print(item)  # Output: 1, 2, 3\n"
   ]
  },
  {
   "cell_type": "code",
   "execution_count": 13,
   "metadata": {},
   "outputs": [
    {
     "name": "stdout",
     "output_type": "stream",
     "text": [
      "1\n",
      "2\n",
      "3\n"
     ]
    }
   ],
   "source": [
    "'''Generator:\n",
    "\n",
    "Definition: Generators are a simple way to create iterators using a function that yields value one at a time, instead of returning them all at once.A generator function uses the 'yield' keyword\n",
    "Usage: Generators are useful when dealing with large datasets, as they generate values on the fly and do not store them in memory.'''\n",
    "#eg:\n",
    "def my_generator():\n",
    "    yield 1\n",
    "    yield 2\n",
    "    yield 3\n",
    "\n",
    "gen=my_generator()  \n",
    "print(next(gen))  # Output: 1\n",
    "print(next(gen))  # Output: 2\n",
    "print(next(gen))  # Output: 3  "
   ]
  },
  {
   "cell_type": "code",
   "execution_count": 15,
   "metadata": {},
   "outputs": [
    {
     "name": "stdout",
     "output_type": "stream",
     "text": [
      "1\n",
      "2\n",
      "3\n",
      "4\n",
      "5\n",
      "6\n",
      "7\n",
      "8\n",
      "9\n",
      "\n"
     ]
    }
   ],
   "source": [
    "#Q: What is difference between xrange and range in python??\n",
    "'''The range() and xrange() functions in Python are used to iterate over a sequence of values. The main difference between them lies in their working speed, return values, and memory optimization.\n",
    "<difference>\n",
    "Working Speed: The range() function is comparatively faster than the xrange() function because xrange() needs to reconstruct the integer objects again and again, whereas range() does not.\n",
    "\n",
    "Return Values: The range() function returns a range of iterable type objects, whereas the xrange() function returns a generator object.\n",
    "\n",
    "Memory Optimization: The xrange() function is more memory optimized than the range() function.\n",
    "\n",
    "Syntax: The syntax of both functions is the same, which means you have to specify start, stop, and step.'''\n",
    "#eg:\n",
    "#using range() function\n",
    "for i in range(1,10):\n",
    "    print(i)\n",
    "\n",
    "print() \n",
    "\n",
    "#using xrange() function(pyhton2 only)\n",
    "for  i in xrange(1,10):   #NameError: name 'xrange' is not defined\n",
    "    print(i) "
   ]
  },
  {
   "cell_type": "code",
   "execution_count": null,
   "metadata": {},
   "outputs": [],
   "source": [
    "#Q: pillars of oops?\n",
    "#Ans:\n",
    "'''\n",
    "The pillars of OOPs (Object-Oriented Programming) in Python are:\n",
    "\n",
    "Encapsulation: This concept binds together the data and the methods that manipulate that data, and keeps both safe from outside interference and misuse. In Python, encapsulation is achieved through classes and objects.\n",
    "\n",
    "Inheritance: This is a mechanism in which one class can inherit the properties of another class. In Python, inheritance is achieved through the use of parent and child classes, where the child class inherits the attributes and methods of the parent class.\n",
    "\n",
    "Polymorphism: This is the ability of an object to take on multiple forms. In Python, polymorphism is achieved through method overriding (where a child class provides a different implementation of a method already defined in its parent class) and method overloading (where multiple methods with the same name can be defined, but with different parameters).\n",
    "\n",
    "Abstraction: This is the concept of showing only the necessary information to the outside world while hiding the internal details. In Python, abstraction is achieved through abstract classes and interfaces.'''"
   ]
  },
  {
   "cell_type": "code",
   "execution_count": 17,
   "metadata": {},
   "outputs": [
    {
     "name": "stdout",
     "output_type": "stream",
     "text": [
      "True\n",
      "False\n"
     ]
    }
   ],
   "source": [
    "#Q:- How will you check if a class is a child of another class?\n",
    "#ans:\n",
    "'''To check if a class is a child (subclass) of another class in Python, you can use the built-in issubclass() function. This function checks if a class is derived from another class.'''\n",
    "#Syntax:\n",
    "  #      <<<issubclass(subclass, superclass)>>>\n",
    "\n",
    "#eg:\n",
    "class parent:\n",
    "    pass\n",
    "class child(parent):\n",
    "    pass\n",
    "#check if child is a subclass of parent\n",
    "print(issubclass(child,parent))  #true\n",
    "print(issubclass(parent,child))   #false"
   ]
  },
  {
   "cell_type": "code",
   "execution_count": 19,
   "metadata": {},
   "outputs": [
    {
     "name": "stdout",
     "output_type": "stream",
     "text": [
      "some sound\n",
      "some sound\n",
      "woof woof!\n",
      "I am cute,jonny!\n",
      "some sound\n",
      "woof woof!\n",
      "Nihal\n",
      "Germansefherd\n"
     ]
    }
   ],
   "source": [
    "#Q: How does inheritance work in python? Explain all types of inheritance with an example.\n",
    "#ANS:-\n",
    "'''Inheritance is a fundamental concept in object-oriented programming that allows a class (called the child class or subclass) to inherit attributes and methods from another class (called the parent class or superclass). This promotes code reusability and a hierarchical classification.\n",
    "\n",
    "Types of Inheritance in Python\n",
    "\n",
    "1.Single Inheritance:\n",
    "A child class inherits from a single parent class.\n",
    "\n",
    "2.Multiple Inheritance:\n",
    "A child class inherits from more than one parent class.\n",
    "\n",
    "3.Multilevel Inheritance:\n",
    "A child class inherits from a parent class, which in turn inherits from another parent class.\n",
    "\n",
    "4.Hierarchical Inheritance:\n",
    "Multiple child classes inherit from a single parent class.\n",
    "\n",
    "5.Hybrid Inheritance:\n",
    "A combination of two or more types of inheritance.'''\n",
    "\n",
    "#Example for all types:\n",
    "\n",
    "#base class\n",
    "class Animal:\n",
    "    def sound(self):\n",
    "        return 'some sound'\n",
    "    \n",
    "#single inheritance\n",
    "class Dog(Animal):\n",
    "    def bark(self):\n",
    "        return \"woof woof!\"    \n",
    "\n",
    "#multilevel inheritance\n",
    "class Puppy(Dog):\n",
    "    def cute(self):\n",
    "        return 'I am cute,jonny!'    \n",
    "    \n",
    "\n",
    "#Multiple inheritance\n",
    "class Pet:\n",
    "    def owner(self):\n",
    "        return 'Nihal'    \n",
    "    \n",
    "class Germansefherd(Dog,Pet):\n",
    "    def type(self):\n",
    "        return 'Germansefherd'  \n",
    "\n",
    "#Creating instance\n",
    "dog=Dog()\n",
    "puppy=Puppy()\n",
    "german=Germansefherd() \n",
    "\n",
    "#demonstrating single inheritance\n",
    "print(dog.sound())\n",
    "\n",
    "#demonstrating multillel inheritance\n",
    "print(puppy.sound())    #output:some sound\n",
    "print(puppy.bark())     #output:woof woof\n",
    "print(puppy.cute())   # Output: I am cute!\n",
    "\n",
    "# Demonstrating Multiple Inheritance\n",
    "print(german.sound())  # Output: Some sound\n",
    "print(german.bark())   # Output: woof woof!\n",
    "print(german.owner())  # Output: Nihal\n",
    "print(german.type())   # Output: Germansefherd"
   ]
  },
  {
   "cell_type": "code",
   "execution_count": 21,
   "metadata": {},
   "outputs": [
    {
     "name": "stdout",
     "output_type": "stream",
     "text": [
      "Nihal\n",
      "22\n",
      "35\n"
     ]
    }
   ],
   "source": [
    "#Q: what is encapsulation? Explain it with an example\n",
    "#ANs:\n",
    "'''Encapsulation: This concept binds together the data and the methods that manipulate that data, and keeps both safe from outside interference and misuse. In Python, encapsulation is achieved through classes and objects.\n",
    "\n",
    "Key Points:\n",
    "\n",
    "Private Attributes/Methods: These are indicated by prefixing an attribute or method name with an underscore _ or double underscore __. Private attributes/methods cannot be accessed directly from outside the class.\n",
    "Public Attributes/Methods: These can be accessed from outside the class.'''\n",
    "\n",
    "#Eg:\n",
    "class Person:\n",
    "    def __init__(self,name,age):\n",
    "        self.name=name  #public attribute\n",
    "        self.__age=age  #prite attribute\n",
    "\n",
    "    def get_age(self):\n",
    "        return self.__age    #public method to access prite attribute\n",
    "\n",
    "    def set_age(self,age):\n",
    "        if age>0:\n",
    "            self.__age=age  #public method to modify prite code \n",
    "\n",
    "#creating an instance of person\n",
    "person=Person('Nihal', 22)\n",
    "#accessing public attributes\n",
    "print(person.name)\n",
    "\n",
    "#Trying to access prite attribute(will raise AttributesEror)\n",
    "# print(person.__age)\n",
    "\n",
    "#Using public methods to access and modify prite attribute\n",
    "print(person.get_age())\n",
    "person.set_age(35)\n",
    "print(person.get_age())\n"
   ]
  },
  {
   "cell_type": "code",
   "execution_count": 22,
   "metadata": {},
   "outputs": [
    {
     "name": "stdout",
     "output_type": "stream",
     "text": [
      "5\n",
      "10\n",
      "5\n"
     ]
    }
   ],
   "source": [
    "#Q: What is polymorphism? Explain it with an example.\n",
    "#Ans:-\n",
    "'''\n",
    "Definition:\n",
    "Polymorphism is a fundamental concept in object-oriented programming that allows objects of different classes to be treated as objects of a common superclass. It enables a single function, method, or operator to work in different ways based on the input.\n",
    "\n",
    "Key Points:\n",
    ">>Method Overriding: Different classes can have methods with the same name, allowing for different implementations.\n",
    ">>Operator Overloading: Operators can have different meanings based on the operands.'''\n",
    "#Example:\n",
    "class MathOperations:\n",
    "    def add(self, *args):\n",
    "        return sum(args)\n",
    "\n",
    "# Creating an instance\n",
    "math = MathOperations()\n",
    "\n",
    "# Using the same method with different numbers of arguments\n",
    "print(math.add(2, 3))        # Output: 5\n",
    "print(math.add(1, 2, 3, 4))  # Output: 10\n",
    "print(math.add(5))           # Output: 5\n"
   ]
  },
  {
   "cell_type": "markdown",
   "metadata": {},
   "source": [
    "Question 1. 2. Which of the following identifier names are invalid and why?\n",
    "a) Serial_no.\n",
    "\n",
    "b) 1st_Room\n",
    "\n",
    "c) Hundred$\n",
    "\n",
    "d) Total_Marks\n",
    "\n",
    "e) total-Marks\n",
    "\n",
    "f) Total Marks\n",
    "g) True\n",
    "\n",
    "h) _Percentag\n",
    "\n",
    "Answer:-\n",
    "<Valid and Invalid Identifier Names in Python>\n",
    "\n",
    "Valid Identifiers:\n",
    "Serial_no.: Valid. It uses an underscore, which is allowed.\n",
    "Total_Marks: Valid. It uses an underscore, which is allowed.\n",
    "_Percentag: Valid. Identifiers can start with an underscore.\n",
    "\n",
    "Invalid Identifiers:\n",
    "1st_Room: Invalid. Identifiers cannot start with a digit.\n",
    "Hundred$: Invalid. Identifiers cannot contain the dollar sign ($).\n",
    "total-Marks: Invalid. Identifiers cannot contain hyphens (-).\n",
    "Total Marks: Invalid. Identifiers cannot contain spaces.\n",
    "True: Invalid. True is a reserved keyword in Python.\n",
    "\n",
    "<<<<<<NOTE>>>>>\n",
    "Explanation of Identifier Rules:\n",
    "1.Identifiers can contain letters (a-z, A-Z), digits (0-9), and underscores (_).\n",
    "2.Identifiers must start with a letter or an underscore.\n",
    "3.Identifiers cannot start with a digit.\n",
    "4.Identifiers cannot contain spaces or special characters like -, $, @, etc.\n",
    "5.Identifiers cannot be a reserved keyword in Python."
   ]
  },
  {
   "cell_type": "code",
   "execution_count": 4,
   "metadata": {},
   "outputs": [
    {
     "data": {
      "text/plain": [
       "['freedomFighter', 'mohan', 'dash', 'karam', 'chandra', 'ghandhi', 'Bapu']"
      ]
     },
     "execution_count": 4,
     "metadata": {},
     "output_type": "execute_result"
    }
   ],
   "source": [
    "#Question1.3.\n",
    "name=['mohan','dash','karam','chandra','ghandhi','Bapu'] \n",
    "\n",
    "#a) add an element \"freedom-fighter\" in this list of 0th index.\n",
    "name.insert(0,\"freedomFighter\")\n",
    "name"
   ]
  },
  {
   "cell_type": "code",
   "execution_count": 6,
   "metadata": {},
   "outputs": [
    {
     "name": "stdout",
     "output_type": "stream",
     "text": [
      "8\n"
     ]
    }
   ],
   "source": [
    "\n",
    "#b) find the output of the following ,and explain how?\n",
    "name=['freedomFighter', 'mohan', 'dash', 'karam', 'chandra', 'ghandhi', 'Bapu']\n",
    "length1=len((name[-len(name)+1:-1:2]))\n",
    "length2=len((name[-len(name)+1:-1]))\n",
    "print(length1+length2)\n",
    "\n",
    "#explaination: \n",
    "# lenght1=3\n",
    "# lenght2=5\n",
    "# so length1+length2 is 8"
   ]
  },
  {
   "cell_type": "code",
   "execution_count": 8,
   "metadata": {},
   "outputs": [
    {
     "name": "stdout",
     "output_type": "stream",
     "text": [
      "['freedomFighter', 'mohan', 'dash', 'karam', 'chandra', 'ghandhi', 'Bapu', 'Netaji', 'Bose']\n"
     ]
    }
   ],
   "source": [
    "#c) add two more elements in the name [\"NetaJi\",\"Bose\"] at the end of the list.\n",
    "name.append(\"Netaji\")\n",
    "name.append(\"Bose\")\n",
    "print(name)"
   ]
  },
  {
   "cell_type": "code",
   "execution_count": 10,
   "metadata": {},
   "outputs": [
    {
     "name": "stdout",
     "output_type": "stream",
     "text": [
      "['Mohan', 'dash', 'karam', 'chandra', 'gandi', 'Bapuji']\n",
      "Mohan\n"
     ]
    }
   ],
   "source": [
    "#d) what will be the value of temp:\n",
    "\n",
    "name = [\"Bapuji\", \"dash\", \"karam\", \"chandra\",\"gandi\",\"Mohan\"]\n",
    "\n",
    "temp=name[-1]\n",
    "\n",
    "name[-1]=name[0]\n",
    "\n",
    "name[0]=temp\n",
    "\n",
    "print(name)\n",
    "print(temp)"
   ]
  },
  {
   "cell_type": "code",
   "execution_count": 11,
   "metadata": {},
   "outputs": [
    {
     "name": "stdout",
     "output_type": "stream",
     "text": [
      "2\n",
      "4\n",
      "7\n"
     ]
    }
   ],
   "source": [
    "# Question 1.4.Find the output of the following.\n",
    "\n",
    "animal = ['Human','cat','mat','cat','rat','Human', 'Lion']\n",
    "\n",
    "print(animal.count('Human'))\n",
    "\n",
    "print(animal.index('rat'))\n",
    "\n",
    "print(len(animal))"
   ]
  },
  {
   "cell_type": "code",
   "execution_count": 17,
   "metadata": {},
   "outputs": [
    {
     "name": "stdout",
     "output_type": "stream",
     "text": [
      "8\n",
      "Navneet\n",
      "1\n",
      "ji\n",
      "22\n"
     ]
    }
   ],
   "source": [
    "#Question1.5. \n",
    "tuple1=(10,20,\"Apple\",3.4,'a',[\"master\",\"ji\"],(\"sita\",\"geeta\",22),[{\"roll_no\":1},{\"name\":\"Navneet\"}])\n",
    "print(len(tuple1))\n",
    "print(tuple1[-1][-1][\"name\"])\n",
    "\n",
    "#fetch the lue of roll_no from the tuple.\n",
    "print(tuple1[-1][-2][\"roll_no\"])\n",
    "print(tuple1[-3][1])\n",
    "\n",
    "#fetch the element \"22\" from this tuple\n",
    "print(tuple1[-2][2])"
   ]
  },
  {
   "cell_type": "code",
   "execution_count": 24,
   "metadata": {},
   "outputs": [
    {
     "name": "stdout",
     "output_type": "stream",
     "text": [
      "Stop\n"
     ]
    }
   ],
   "source": [
    "#Question1.6. Write a program to display the approprite message as per the color of signal(RED-Stop/Yellow-Stay/Green-Go) at the crossing.\n",
    "display=input(\"Enter the color for road crossing signal:\")\n",
    "if display == \"RED\":\n",
    "    print(\"Stop\")\n",
    "elif display == \"Yellow\":\n",
    "    print(\"Stay\")\n",
    "elif display == \"Green\":\n",
    "    print(\"Go\")\n",
    "else:\n",
    "    print(\"Invalid color. Please enter 'Red', 'Yellow', or 'Green'.\")\n"
   ]
  },
  {
   "cell_type": "code",
   "execution_count": 6,
   "metadata": {},
   "outputs": [
    {
     "name": "stdout",
     "output_type": "stream",
     "text": [
      "Select operation:\n",
      "type 1 for add:\n",
      "type 2 for mul:\n",
      "type 3 for sub:\n",
      "type 4 for div:\n",
      "434.0x323.0=757.0\n"
     ]
    }
   ],
   "source": [
    "#Question1.7. Write a program to create a simple calculator perfoming only four baisc operations(+,-,/,*).\n",
    "def add(a,b):\n",
    "    return a+b\n",
    "    \n",
    "def mul(a,b):\n",
    "    return a*b\n",
    "\n",
    "def sub(a,b):\n",
    "    return a-b\n",
    "    \n",
    "def div(a,b):\n",
    "    return a/b\n",
    "def Calculator():\n",
    "    \n",
    "    print(\"Select operation:\")\n",
    "    print(\"type 1 for add:\")\n",
    "    print(\"type 2 for mul:\")\n",
    "    print(\"type 3 for sub:\")\n",
    "    print(\"type 4 for div:\")\n",
    "\n",
    "    choice=input(\"Enter value (1/2/3/4) for calculate:\")\n",
    "\n",
    "    if choice in ('1','2','3','4'):\n",
    "        num1=float(input(\"Enter the number1 :\"))\n",
    "        num2=float(input(\"Enter the number2 :\"))\n",
    "        if choice=='1':\n",
    "            print(f\"{num1}+{num2}={add(num1,num2)}\")\n",
    "        elif choice=='2':\n",
    "            print(f\"{num1}x{num2}={mul(num1,num2)}\")                \n",
    "        elif choice=='3':\n",
    "            print(f\"{num1} - {num2}={sub(num1,num2)}\")\n",
    "        elif choice=='4':\n",
    "            print(f\"{num1}/{num2}={div(num1,num2)}\")\n",
    "        else:\n",
    "            print(\"Enter choise right option\") \n",
    "#RUN the calculator\n",
    "Calculator()           \n"
   ]
  },
  {
   "cell_type": "code",
   "execution_count": 1,
   "metadata": {},
   "outputs": [
    {
     "name": "stdout",
     "output_type": "stream",
     "text": [
      "c is greatest\n"
     ]
    }
   ],
   "source": [
    "#Question1.8 Write a program to find the larger of the three pre-specified numbers using ternary operations.\n",
    "a=34\n",
    "b=46\n",
    "c=57\n",
    "if a>b and a>c:\n",
    "    print(\" a is greatest\")\n",
    "elif b>a and b>c:\n",
    "    print(\"b is greatest\")    \n",
    "elif c>a and c>b:\n",
    "    print(\"c is greatest\")    "
   ]
  },
  {
   "cell_type": "code",
   "execution_count": 5,
   "metadata": {},
   "outputs": [
    {
     "name": "stdout",
     "output_type": "stream",
     "text": [
      "1 is a factor of  45\n",
      "3 is a factor of  45\n",
      "5 is a factor of  45\n",
      "9 is a factor of  45\n",
      "15 is a factor of  45\n",
      "45 is a factor of  45\n"
     ]
    }
   ],
   "source": [
    "#Q1.9 Write a program to find the factors of a whole number using a while loop.\n",
    "Whole_num=int(input(\"Enter the number: \"))\n",
    "i=1\n",
    "while i<=Whole_num:\n",
    "    if Whole_num%i==0:\n",
    "        print(i,\"is a factor of \",Whole_num)\n",
    "    i=i+1    \n"
   ]
  },
  {
   "cell_type": "code",
   "execution_count": 13,
   "metadata": {},
   "outputs": [
    {
     "name": "stdout",
     "output_type": "stream",
     "text": [
      "The positive numbers entered are: [2, 3, 4, 4, 534]\n",
      " The Sum of  all postive numbers is : 547\n"
     ]
    }
   ],
   "source": [
    "#Q 1.10. Write a program to find the sum of all the positive numbers entres by user. As soon as the user enters a negati number, stop taking in any further input form the user and display the sum.\n",
    "total_sum=0\n",
    "positive_numbers=[]\n",
    "while True:\n",
    "    number=int(input(\"Enter the numbers\"))\n",
    "    if number<0:\n",
    "        break\n",
    "    else:\n",
    "        total_sum+=number\n",
    "        positive_numbers.append(number)\n",
    "print(\"The positive numbers entered are:\",positive_numbers)    \n",
    "print(\" The Sum of  all postive numbers is :\",total_sum)"
   ]
  },
  {
   "cell_type": "code",
   "execution_count": 2,
   "metadata": {},
   "outputs": [
    {
     "name": "stdout",
     "output_type": "stream",
     "text": [
      "prime numbers between 2 to 100 are: [2, 3, 5, 7, 11, 13, 17, 19, 23, 29, 31, 37, 41, 43, 47, 53, 59, 61, 67, 71, 73, 79, 83, 89, 97]\n"
     ]
    }
   ],
   "source": [
    "#Q 1.11. Write a program to find prime numbers between 2 to 100 using nested for loops.\n",
    "prime_number=[]\n",
    "#outer loop to iterrate through each number in the range\n",
    "for num in range(2,100):\n",
    "    is_prime=True\n",
    "    #Inner loop to check if num is disible by any number other than 1 and itself\n",
    "    for i in range(2,num):\n",
    "        if num%i==0:\n",
    "            is_prime=False\n",
    "            break\n",
    "    if is_prime:\n",
    "        prime_number.append(num)    \n",
    "\n",
    "print(\"prime numbers between 2 to 100 are:\",prime_number)               \n",
    "\n",
    "\n",
    "    "
   ]
  },
  {
   "cell_type": "code",
   "execution_count": 3,
   "metadata": {},
   "outputs": [
    {
     "name": "stdout",
     "output_type": "stream",
     "text": [
      "Marks of Math is : 98\n",
      "Marks of Physics is : 78\n",
      "Marks of CHemistry is : 89\n",
      "Marks of History is : 90\n",
      "Marks of Geography is : 99\n",
      "Total marks gain : 454\n",
      "Gain percentage by student: 90.8\n",
      "A grade\n"
     ]
    }
   ],
   "source": [
    "#Question1.12.Write the program for the following:\n",
    "#Accept the marks of the student in fi major subjects and display the same.\n",
    "#Calculate the sum of the marks of all subjects.Divide the total marks by number of subjects(i.e.5),calculate percentage=total marks/5and display the percentage.\n",
    "#Find the grade of the student as per the follwing criteria. Hint use Match and case for this.\n",
    "Math=int(input(\"Enter your math marks:\"))\n",
    "Physics=int(input(\"Enter your Physics marks:\"))\n",
    "Chemistry=int(input(\"Enter your Chemistry marks:\"))\n",
    "History=int(input(\"Enter your History marks:\"))\n",
    "Geography=int(input(\"Enter your Geography marks:\"))\n",
    "\n",
    "print(\"Marks of Math is :\",Math)\n",
    "print(\"Marks of Physics is :\",Physics)\n",
    "print(\"Marks of CHemistry is :\",Chemistry)\n",
    "print(\"Marks of History is :\",History)\n",
    "print(\"Marks of Geography is :\",Geography)\n",
    "\n",
    "sum=Math+Physics+Chemistry+History+Geography\n",
    "print(\"Total marks gain :\",sum)\n",
    "percentage=sum/5\n",
    "print(\"Gain percentage by student:\",percentage)\n",
    "\n",
    "if percentage>85:\n",
    "    print(\"A grade\")\n",
    "\n",
    "elif percentage<85 |  percentage>=75:\n",
    "    print(\"B grade\")\n",
    "\n",
    "elif percentage<75 | percentage>=50:\n",
    "    print(\"C grade\")\n",
    "\n",
    "elif percentage<30 | percentage<=50:\n",
    "    print(\"C grade\")    \n",
    "\n",
    "else:\n",
    "    print(\"Reappear for exam\")    "
   ]
  },
  {
   "cell_type": "code",
   "execution_count": 6,
   "metadata": {},
   "outputs": [
    {
     "name": "stdout",
     "output_type": "stream",
     "text": [
      "Spectrum Wavelength is : 720\n",
      "Red\n"
     ]
    }
   ],
   "source": [
    "#Q1.13: Write a program for VIBGYOR Sepectrum based on their wavelength using Wavelenght RAnge:\n",
    "#   1. Red: 620-750 nm\n",
    "#   2. Orange: 590-620 nm\n",
    "#   3. Yellow: 570-590 nm\n",
    "#   4. Green: 520-570 nm\n",
    "#   5. Blue: 450-520 nm\n",
    "#   6. Indigo: 420-450 nm\n",
    "#   7. Violet: 400-420 nm\n",
    "\n",
    "wave=int(input(\"Enter the wavelenght for know spectrum color: \"))\n",
    "print(\"Spectrum Wavelength is :\",wave)\n",
    "\n",
    "if wave<750 | wave>620:\n",
    "    print(\"Red\")\n",
    "elif wave<620 | wave>590:\n",
    "    print(\"Red\")\n",
    "elif wave<590 | wave>570:\n",
    "    print(\"Red\")\n",
    "elif wave<570 | wave>500:\n",
    "    print(\"Red\")\n",
    "elif wave<500 | wave>460:\n",
    "    print(\"Red\")\n",
    "elif wave<460 | wave>440:\n",
    "    print(\"Red\")\n",
    "elif wave<440 | wave>400:\n",
    "    print(\"Red\")                        "
   ]
  },
  {
   "cell_type": "code",
   "execution_count": null,
   "metadata": {},
   "outputs": [],
   "source": [
    "#Question1.14.\n",
    "'''\n",
    "1.14.Consider the gravitational interactions between the Earth, Moon, and Sun in our solar system.  \n",
    "Given: \n",
    "mass_earth = 5.972e24  # Mass of Earth in kilograms\n",
    "mass_moon = 7.34767309e22  # Mass of Moon in kilograms \n",
    "mass_sun = 1.989e30  # Mass of Sun in kilograms  \n",
    "distance_earth_sun = 1.496e11  # Average distance between Earth and Sun in meters \n",
    "distance_moon_earth = 3.844e8  # Average distance between Moon and Earth in meters  \n",
    "\n",
    "Tasks\n",
    "* Calculate the gravitational force between the Earth and the Sun.\n",
    "* Calculate the gravitational force between the Moon and the Earth.\n",
    "* Compare the calculated forces to determine which gravitational force is stronger.\n",
    "* Explain which celestial body (Earth or Moon) is more attracted to the other based on the comparison.  \n",
    "'''"
   ]
  },
  {
   "cell_type": "code",
   "execution_count": 10,
   "metadata": {},
   "outputs": [
    {
     "name": "stdout",
     "output_type": "stream",
     "text": [
      "Gratational force between the Earth and the Sun is : 3.542236855858046e+22\n",
      "Gratational force between the Earth and the Moon is : 1.9819334566450407e+20\n",
      "gravitational force between the Earth and the Sun is Stronger\n"
     ]
    }
   ],
   "source": [
    "#Solution\n",
    "mass_sun = 1.989e30\n",
    "mass_moon = 7.34767309e22\n",
    "mass_earth = 5.972e24\n",
    "distance_earth_sun = 1.496e11\n",
    "distance_moon_earth = 3.844e8\n",
    "gravitational_constant=6.674e-11\n",
    "\n",
    "#the gravitational force between the Earth and the Sun\n",
    "G_e_s=(gravitational_constant*mass_earth*mass_sun)/distance_earth_sun**2\n",
    "print(\"Gratational force between the Earth and the Sun is :\",G_e_s)\n",
    "\n",
    "#the gravitational force between the Moon and the Earth.\n",
    "G_e_m=(gravitational_constant*mass_earth*mass_moon)/distance_moon_earth**2\n",
    "print(\"Gratational force between the Earth and the Moon is :\",G_e_m)\n",
    "\n",
    "#to determine which gravitational force is stronger.\n",
    "if G_e_s>G_e_m:\n",
    "    print(\"gravitational force between the Earth and the Sun is Stronger\")\n",
    "\n",
    "else:\n",
    "    print(\"gravitational force between the Moon and the Earth is stronger\")    "
   ]
  },
  {
   "cell_type": "markdown",
   "metadata": {},
   "source": [
    "#>>Explain which celestial body (Earth or Moon) is more     attracted to the other based on the comparison\n",
    "\n",
    "Ans:The gravitational force between two bodies is mutual; it means the force with which the Earth attracts the Moon is equal in magnitude to the force with which the Moon attracts the Earth. This is a direct consequence of Newton's Third Law of Motion, which states that every action has an equal and opposite reaction.\n",
    "The gravitational force between two bodies is mutual; it means the force with which the Earth attracts the Moon is equal in magnitude to the force with which the Moon attracts the Earth. This is a direct consequence of Newton's Third Law of Motion, which states that every action has an equal and opposite reaction."
   ]
  },
  {
   "cell_type": "markdown",
   "metadata": {},
   "source": [
    "#Question2:-\n",
    "'''\n",
    "Design and implement a Python program for managing student information using object-oriented principles. Create a class called `Student` with encapsulated attributes for name, age, and roll number. Implement getter and setter methods for these attributes. Additionally, provide methods to display student information and update student details.  \n",
    "Tasks:-\n",
    "1.Define the `Student` class with encapsulated attributes.\n",
    "2. Implement getter and setter methods for the attributes.\n",
    "3.Write methods to display student information and update details.\n",
    "4.Create instances of the `Student` class and test the implemented functional.'''"
   ]
  },
  {
   "cell_type": "code",
   "execution_count": 1,
   "metadata": {},
   "outputs": [
    {
     "name": "stdout",
     "output_type": "stream",
     "text": [
      "Name: Nihal, Age: 22, Roll Number: 2207340130034\n",
      "Name: Alex, Age: 21, Roll Number: 324932943234\n",
      "Name: Nidhi, Age: 21, Roll Number: 2207340130034\n",
      "Name: Alex, Age: 21, Roll Number: S20S\n"
     ]
    }
   ],
   "source": [
    "#Code\n",
    "class Student:\n",
    "    def __init__(self, name, age, roll_number):\n",
    "        self.__name = name\n",
    "        self.__age = age\n",
    "        self.__roll_number = roll_number\n",
    "\n",
    "    # Getter for name\n",
    "    def get_name(self):\n",
    "        return self.__name\n",
    "\n",
    "    # Setter for name\n",
    "    def set_name(self, name):\n",
    "        self.__name = name        \n",
    "\n",
    "    # Getter for age\n",
    "    def get_age(self):\n",
    "        return self.__age\n",
    "\n",
    "    # Setter for age\n",
    "    def set_age(self, age):\n",
    "        if age > 0:\n",
    "            self.__age = age \n",
    "        else:\n",
    "            print(\"Invalid age\")   \n",
    "\n",
    "    # Getter for roll number\n",
    "    def get_roll_number(self):\n",
    "        return self.__roll_number\n",
    "\n",
    "    # Setter for roll number\n",
    "    def set_roll_number(self, roll_number):\n",
    "        self.__roll_number = roll_number\n",
    "\n",
    "    # Method to display information\n",
    "    def display_info(self):\n",
    "        print(f\"Name: {self.__name}, Age: {self.__age}, Roll Number: {self.__roll_number}\")\n",
    "\n",
    "    # Method to update student details\n",
    "    def update_details(self, name=None, age=None, roll_number=None):\n",
    "        if name is not None:\n",
    "            self.set_name(name)\n",
    "        if age is not None:\n",
    "            self.set_age(age)\n",
    "        if roll_number is not None:\n",
    "            self.set_roll_number(roll_number)\n",
    "\n",
    "# Create instances of the Student class\n",
    "student1 = Student(\"Nihal\", 22, \"2207340130034\")   \n",
    "student2 = Student(\"Alex\", 21, \"324932943234\")  \n",
    "\n",
    "# Display student information\n",
    "student1.display_info()\n",
    "student2.display_info()\n",
    "\n",
    "# Update student details\n",
    "student1.update_details(name=\"Nidhi\", age=21)\n",
    "student2.update_details(roll_number=\"S20S\")\n",
    "\n",
    "# Display updated student information\n",
    "student1.display_info()\n",
    "student2.display_info()\n"
   ]
  },
  {
   "cell_type": "markdown",
   "metadata": {},
   "source": [
    "#Question3:\n",
    "\n",
    "Develop a Python program for managing library resources efficiently. Design a class named `LibraryBook` with attributes like book name, author, and availability status. Implement methods for borrowing and returning books while ensuring proper encapsulation of attributes.  \n",
    "Tasks\n",
    "1. Create the `LibraryBook` class with encapsulated attributes.\n",
    "2. Implement methods for borrowing and returning books.\n",
    "3. Ensure proper encapsulation to protect book details.\n",
    "4. Test the borrowing and returning functionality with sample data. \n"
   ]
  },
  {
   "cell_type": "code",
   "execution_count": 5,
   "metadata": {},
   "outputs": [
    {
     "name": "stdout",
     "output_type": "stream",
     "text": [
      "you have borrowed Mahabhart by Vedvyash.\n",
      "Sorry, Mahabhart is currently not available.\n",
      "you have borrowed Ramayan by Valmiki.\n",
      "You have returned Mahabhart.\n",
      "You have returned Ramayan.\n"
     ]
    }
   ],
   "source": [
    "#code\n",
    "class Librarybook:\n",
    "    def __init__(self,bookname,author):\n",
    "        self.__bookname=bookname\n",
    "        self.__author=author\n",
    "        self.__is_available=True\n",
    "\n",
    "    def borrow_book(self):\n",
    "        if self.__is_available:\n",
    "            self.__is_available=False\n",
    "            return f'you have borrowed {self.__bookname} by {self.__author}.'\n",
    "        else:\n",
    "            return f'Sorry, {self.__bookname} is currently not available.'\n",
    "\n",
    "    def return_book(self):\n",
    "        if not self.__is_available:\n",
    "            self.__is_available=False\n",
    "            return f'You have returned {self.__bookname}.'  \n",
    "        else:\n",
    "            return f'{self.__bookname} was not borrowed.'\n",
    "\n",
    "    def get_book_details(self):\n",
    "        return{\n",
    "            'bookname':self.__bookname,\n",
    "            'author':self.__author,\n",
    "            'is_available':self.__is_available\n",
    "        }        \n",
    "    \n",
    "\n",
    "    #Test the functionality with sample data\n",
    "\n",
    "if __name__==\"__main__\":\n",
    "    book1=Librarybook(\"Mahabhart\",\"Vedvyash\")\n",
    "    book2=Librarybook(\"Ramayan\",\"Valmiki\")    \n",
    "\n",
    "    #Borrowing books\n",
    "\n",
    "    print(book1.borrow_book())\n",
    "    print(book1.borrow_book())\n",
    "    print(book2.borrow_book())\n",
    "\n",
    "    #Returning book\n",
    "    print(book1.return_book())\n",
    "    print(book2.return_book())"
   ]
  },
  {
   "cell_type": "markdown",
   "metadata": {},
   "source": [
    "#Question4:-\n",
    "Create a simple banking system using object-oriented concepts in Python. Design classes representing different types of bank accounts such as savings and checking. Implement methods for deposit, withdraw, and balance inquiry. Utilize inheritance to manage different account types efficiently.  \n",
    "Tasks\n",
    "1. Define base class(es) for bank accounts with common attributes and methods.\n",
    "2. Implement subclasses for specific account types (e.g., SavingsAccount, CheckingAccount).\n",
    "3. Provide methods for deposit, withdraw, and balance inquiry in each subclass.\n",
    "4. Test the banking system by creating instances of different account types and performing transactions."
   ]
  },
  {
   "cell_type": "code",
   "execution_count": 7,
   "metadata": {},
   "outputs": [
    {
     "name": "stdout",
     "output_type": "stream",
     "text": [
      "Intial saving account:\n",
      "Account Number: 53745\n",
      "Owner:Nihal\n",
      "Balance: $1000\n",
      "Interest Rate: 20.0%\n",
      " Deposited $500.New balance: $1500\n",
      "Withdraw $200. New balance: $1300\n",
      " Deposited $260.0.New balance: $1560.0\n",
      "Applied interset: $260.0\n",
      "\n",
      "Initial Checking account:\n",
      "Account Number: 234389\n",
      "Owner:nj\n",
      "Balance: $500\n",
      "Ordraft Limit: $200\n",
      " Deposited $300.New balance: $800\n",
      "Withdraw $700.New balance: $100\n",
      "Withdraw $200.New balance: $-100\n"
     ]
    }
   ],
   "source": [
    "#code:\n",
    "\n",
    "#define the base class for bank accounts\n",
    "class BankAccount:\n",
    "    def __init__(self,account_number,owner_name,balance=0):\n",
    "        self.account_number=account_number\n",
    "        self.owner_name=owner_name\n",
    "        self.balance=balance\n",
    "\n",
    "    def deposit(self,amount):\n",
    "        if amount>0:\n",
    "            self.balance+=amount   \n",
    "            print(f\" Deposited ${amount}.New balance: ${self.balance}\") \n",
    "        else:\n",
    "            print(\"Deposit amount must be positive .\")\n",
    "\n",
    "    def withdraw(self,amount):\n",
    "        if amount>0 and amount<=self.balance:\n",
    "            self.balance -=amount\n",
    "            print(f\"Withdraw ${amount}. New balance: ${self.balance}\")\n",
    "\n",
    "        elif amount>self.balance:\n",
    "            print(\"Insufficiet funds.\")\n",
    "\n",
    "        else:\n",
    "            print(\"Withdrawal amount must be positive.\")\n",
    "\n",
    "    def get_balance(self):\n",
    "        return self.balance\n",
    "\n",
    "    def __str__(self):\n",
    "        return f\"Account Number: {self.account_number}\\nOwner:{self.owner_name}\\nBalance: ${self.balance}\"                \n",
    "\n",
    "#Implement subclass for specific account type(saving account)\n",
    "class SavingAccount(BankAccount):\n",
    "    def __init__(self,account_number,owner_name,balance=0,interest_rate=0.2):\n",
    "        super().__init__(account_number,owner_name,balance)\n",
    "        self.interest_rate=interest_rate\n",
    "\n",
    "    def apply_interest(self):\n",
    "        interest=self.balance*self.interest_rate\n",
    "        self.deposit(interest)    \n",
    "        print(f\"Applied interset: ${interest}\")\n",
    "\n",
    "    def __str__(self):\n",
    "        return super().__str__() + f\"\\nInterest Rate: {self.interest_rate*100}%\"    \n",
    "    \n",
    "#Checking accouts may ha features like ordraft limits.\n",
    "\n",
    "class CheckingAccount(BankAccount):\n",
    "    def __init__(self,account_number, owner_name, balance=0,overdraft_limit=100):\n",
    "        super().__init__(account_number,owner_name,balance)\n",
    "        self.overdraft_limit=overdraft_limit\n",
    "\n",
    "    def withdraw(self, amount):\n",
    "        if amount>0 and amount<=(self.balance + self.overdraft_limit):\n",
    "            self.balance-=amount\n",
    "            print(f\"Withdraw ${amount}.New balance: ${self.balance}\")  \n",
    "        else:    \n",
    "            print(\"Insufficient funds or overdraft limit exceeded.\")\n",
    "\n",
    "    def __str__(self):\n",
    "        return super().__str__() + f\"\\nOrdraft Limit: ${self.overdraft_limit}\"\n",
    "\n",
    "#Test the banking system\n",
    "def main():\n",
    "    #creating instances of different accounts types\n",
    "\n",
    "    savings=SavingAccount(\"53745\",\"Nihal\",1000,0.2)\n",
    "    checking=CheckingAccount(\"234389\",\"nj\",500,200)  \n",
    "\n",
    "    #perfomming trancactions\n",
    "    print(\"Intial saving account:\")\n",
    "    print(savings)  \n",
    "    savings.deposit(500)  \n",
    "    savings.withdraw(200)\n",
    "    savings.apply_interest()    \n",
    "\n",
    "    print(\"\\nInitial Checking account:\")\n",
    "    print(checking)  \n",
    "    checking.deposit(300)   \n",
    "    checking.withdraw(700)\n",
    "    checking.withdraw(200)\n",
    "\n",
    "if __name__==\"__main__\":\n",
    "    main()    \n"
   ]
  },
  {
   "cell_type": "markdown",
   "metadata": {},
   "source": [
    "Question5:\n",
    "\n",
    "Write a Python program that models different animals and their sounds. Design a base class called `Animal` with a method `make_sound()`. Create subclasses like `Dog` and `Cat` that override the `make_sound()` method to produce appropriate sounds.\n",
    "\n",
    "Tasks \n",
    "1. Define the `Animal` class with a method `make_sound()`.\n",
    "2. Create subclasses `Dog` and `Cat` that override the `make_sound()` method.\n",
    "3. Implement the sound generation logic for each subclass.\n",
    "4. Test the program by creating instances of `Dog` and `Cat` and calling the `make_sound()` method. \n"
   ]
  },
  {
   "cell_type": "code",
   "execution_count": 1,
   "metadata": {},
   "outputs": [
    {
     "name": "stdout",
     "output_type": "stream",
     "text": [
      "The dog says:Woof!\n",
      "The cat says: Meow!\n"
     ]
    }
   ],
   "source": [
    "#code\n",
    "class Animal:\n",
    "    def make_sound(self):\n",
    "        raise NotImplementedError(\"Subclasses must implement this method.\")\n",
    "    \n",
    "class Dog(Animal):\n",
    "    def make_sound(self):\n",
    "        return \"Woof!\"\n",
    "\n",
    "class Cat(Animal):\n",
    "    def make_sound(self):\n",
    "        return \"Meow!\"\n",
    "\n",
    "def main():\n",
    "    #create instances of dog and cat\n",
    "    my_dog=Dog()\n",
    "    my_cat=Cat()\n",
    "\n",
    "    #call the make_sound method and print the results\n",
    "    print(f\"The dog says:{my_dog.make_sound()}\")   \n",
    "    print(f\"The cat says: {my_cat.make_sound()}\")  \n",
    "\n",
    "if __name__==\"__main__\":\n",
    "    main()           "
   ]
  },
  {
   "cell_type": "markdown",
   "metadata": {},
   "source": [
    "Question6:-\n",
    "Write a code for Restaurant Management System Using OOPS: \n",
    "\n",
    "1.Create a MenuItem class that has attributes such as name, description, price, and category.\n",
    "2.Implement methods to add a new menu item, update menu item information, and remove a menu item from the menu.\n",
    "3.Use encapsulation to hide the menu item's unique identification number.\n",
    "4.Inherit from the MenuItem class to create a FoodItem class and a BeverageItem class, each with their own specific attributes and methods."
   ]
  },
  {
   "cell_type": "code",
   "execution_count": 3,
   "metadata": {},
   "outputs": [
    {
     "name": "stdout",
     "output_type": "stream",
     "text": [
      "Item Pizza added to the menu.\n",
      "Item Burger added to the menu.\n",
      "Item Cola added to the menu.\n",
      "Item Wine added to the menu.\n",
      "\\menu\n",
      "Pizza (Main Course):delicious cheese pizza - $8.99 [vegetarian]\n",
      "Burger (Main course):Juicy chiken burger - $5.99 [Non-Vegetarian]\n",
      "Cola (Beverage):Refreshing cola drink - $1.99 [Non - Alcoholic]\n",
      "Wine (Beverage):Red wine - $12.99 [Alcoholic]\n",
      "\n",
      "Updating Burger:\n",
      " Item Pizza updated.\n",
      "\n",
      " Updating Menu:\n",
      "Pizza (Main Course):Juciy chicken burger with cheese. - $6.49 [vegetarian]\n",
      "Burger (Main course):Juicy chiken burger - $5.99 [Non-Vegetarian]\n",
      "Cola (Beverage):Refreshing cola drink - $1.99 [Non - Alcoholic]\n",
      "Wine (Beverage):Red wine - $12.99 [Alcoholic]\n",
      "\n",
      "Remong Cola:\n",
      "Item Pizza removed for the menu\n",
      "\n",
      " Final menu:\n",
      "Burger (Main course):Juicy chiken burger - $5.99 [Non-Vegetarian]\n",
      "Cola (Beverage):Refreshing cola drink - $1.99 [Non - Alcoholic]\n",
      "Wine (Beverage):Red wine - $12.99 [Alcoholic]\n"
     ]
    }
   ],
   "source": [
    "#code:\n",
    "\n",
    "#Define the MenuItem class\n",
    "class MenuItem:\n",
    "    _id_counter=1\n",
    "\n",
    "    def __init__(self,name,description,price,category):\n",
    "        self.__id=MenuItem._id_counter\n",
    "        MenuItem._id_counter+=1\n",
    "        self.name=name\n",
    "        self.description=description\n",
    "        self.price=price\n",
    "        self.category=category\n",
    "\n",
    "    def get_id(self):\n",
    "        return self._id_counter    \n",
    "    \n",
    "    def update_item(self,name=None,description=None,price=None,category=None):\n",
    "        if name:\n",
    "            self.name=name\n",
    "        if description:\n",
    "            self.description=description\n",
    "        if price:\n",
    "            self.price=price\n",
    "        if category:\n",
    "            self.category=category\n",
    "\n",
    "    def __str__(self):\n",
    "        return f\"{self.name} ({self.category}):{self.description} - ${self.price:.2f}\"\n",
    "\n",
    "#Inherit from MenuItem to create 'FooodItem' and 'BerageItem' classes\n",
    "class FoodItem(MenuItem):\n",
    "    def __init__(self,name,description,price,category,is_vegetarian=False):\n",
    "        super().__init__(name,description,price,category)\n",
    "        self.is_vegetarian=is_vegetarian\n",
    "\n",
    "    def __str__(self):\n",
    "        veg_status=\"vegetarian\" if self.is_vegetarian else \"Non-Vegetarian\" \n",
    "        return f\"{super().__str__()} [{veg_status}]\"\n",
    "\n",
    "class BeverageItem(MenuItem):\n",
    "    def __init__(self,name,description,price,category,is_alcoholic=False):\n",
    "        super().__init__(name,description,price,category)\n",
    "        self.is_alcoholic=is_alcoholic\n",
    "\n",
    "    def __str__(self):\n",
    "        alc_status=\"Alcoholic\" if self.is_alcoholic else \"Non - Alcoholic\"\n",
    "        return f\"{super().__str__()} [{alc_status}]\" \n",
    "\n",
    "#Imeplement the methoda for menaging menu items       \n",
    "class Menu:\n",
    "    def __init__(self):\n",
    "        self.items=[]\n",
    "\n",
    "    def add_item(self,item):\n",
    "        self.items.append(item)\n",
    "        return f\"Item {item.name} added to the menu.\"     \n",
    "\n",
    "    def remove_item(self,item_id):\n",
    "        for item in self.items:\n",
    "            if item.get_id()==item_id:\n",
    "                self.items.remove(item )\n",
    "                return f\"Item {item.name} removed for the menu\"\n",
    "            return \"Item not found.\"\n",
    "\n",
    "    def update_item(self,item_id, name=None,description=None,price=None,category=None):\n",
    "        for item in self.items:\n",
    "            if item.get_id()==item_id:\n",
    "                item.update_item(name,description,price,category)\n",
    "                return f\" Item {item.name} updated.\"\n",
    "        return \"Item not found.\"\n",
    "        \n",
    "    def display_menu(self):\n",
    "        for item in self.items:\n",
    "            print(item) \n",
    "\n",
    "#Testing the restaurent Manegement system\n",
    "if __name__==\"__main__\":\n",
    "    menu=Menu()\n",
    "\n",
    "    #Adding items to the menu\n",
    "\n",
    "    pizza=FoodItem(\"Pizza\",\"delicious cheese pizza\",8.99,\"Main Course\", is_vegetarian=True)\n",
    "    burger=FoodItem(\"Burger\",\"Juicy chiken burger\",5.99,\"Main course\",is_vegetarian=False)\n",
    "    cola=BeverageItem(\"Cola\",\"Refreshing cola drink\",1.99,\"Beverage\",is_alcoholic=False) \n",
    "    wine=BeverageItem(\"Wine\",\"Red wine\",12.99,\"Beverage\",is_alcoholic=True   )    \n",
    "\n",
    "\n",
    "    print(menu.add_item(pizza))\n",
    "    print(menu.add_item(burger))\n",
    "    print(menu.add_item(cola))\n",
    "    print(menu.add_item(wine))\n",
    "\n",
    "\n",
    "    #Display the menu\n",
    "    print(\"\\menu\")\n",
    "    menu.display_menu()\n",
    "\n",
    "    #Updateing an item\n",
    "    print(\"\\nUpdating Burger:\")\n",
    "    print(menu.update_item(burger.get_id(),price=6.49,description=\"Juciy chicken burger with cheese.\"))\n",
    "\n",
    "    #Display the updated menu\n",
    "    print(\"\\n Updating Menu:\")\n",
    "    menu.display_menu()\n",
    "\n",
    "    #Remong an item\n",
    "    print(\"\\nRemong Cola:\")\n",
    "    print(menu.remove_item(cola.get_id()))\n",
    "\n",
    "    #Dispaly the final menu\n",
    "\n",
    "    print(\"\\n Final menu:\")\n",
    "    menu.display_menu()\n",
    "\n",
    "\n",
    "\n",
    "\n",
    "                            \n",
    "\n",
    "\n",
    "        "
   ]
  },
  {
   "cell_type": "markdown",
   "metadata": {},
   "source": [
    "#Question7:-\n",
    "Write a code for  Hotel Management System using OOPS:\n",
    "\n",
    "1. Create a Room class that has attributes such as room number, room type, rate, and availability (private).\n",
    "2. Implement methods to book a room, check in a guest, and check out a guest.\n",
    "3. Use encapsulation to hide the room's unique identification number.\n",
    "4. Inherit from the Room class to create a SuiteRoom class and a StandardRoom class, each with their own specific attributes and methods."
   ]
  },
  {
   "cell_type": "code",
   "execution_count": null,
   "metadata": {},
   "outputs": [],
   "source": []
  },
  {
   "cell_type": "markdown",
   "metadata": {},
   "source": [
    "#Question8:-\n",
    "Write a code for  Fitness Club Management System using OOPS: 1. Create a Member class that has attributes such as name, age, membership type, and membership status (private).\n",
    "2. Implement methods to register a new member, renew a membership, and cancel a membership.\n",
    "3. Use encapsulation to hide the member's unique identification number.\n",
    "4. Inherit from the Member class to create a FamilyMember class and an IndividualMember class, each with their own specific attributes and methods."
   ]
  },
  {
   "cell_type": "code",
   "execution_count": null,
   "metadata": {},
   "outputs": [],
   "source": []
  },
  {
   "cell_type": "markdown",
   "metadata": {},
   "source": [
    "#Question9:-\n",
    "\n",
    "Write a code for  Event Management System using OOPS.\n",
    "1. Create an Event class that has attributes such as name, date, time, location, and list of attendees (private)\n",
    "2. Implement methods to create a new event, add or remove attendees, and get the total number of attendees.\n",
    "3. Use encapsulation to hide the event's unique identification number.\n",
    "4. Inherit from the Event class to create a PrivateEvent class and a PublicEvent class, each with their own specific attributes and methods."
   ]
  },
  {
   "cell_type": "code",
   "execution_count": null,
   "metadata": {},
   "outputs": [],
   "source": []
  },
  {
   "cell_type": "markdown",
   "metadata": {},
   "source": [
    "#Question 10:-\n",
    "\n",
    "Write a code for Airline Reservation System using OOPS.\n",
    "\n",
    "1. Create a Flight class that has attributes such as flight number, departure and arrival airports, departure and arrival times, and available seats (private).\n",
    "2. Implement methods to book a seat, cancel a reservation, and get the remaining available seats.\n",
    "3. Use encapsulation to hide the flight's unique identification number.\n",
    "4. Inherit from the Flight class to create a DomesticFlight class and an InternationalFlight class, each with their own specific attributes and methods.\n"
   ]
  },
  {
   "cell_type": "code",
   "execution_count": 5,
   "metadata": {},
   "outputs": [
    {
     "name": "stdout",
     "output_type": "stream",
     "text": [
      "78.53981633974483\n",
      "5.168334717e-31\n"
     ]
    }
   ],
   "source": [
    "#QUestion 11: Define a Python module named constants.py containing constants like pi and the speed of light. \n",
    "\n",
    "\n",
    "# from Constant import PI,PLANCK_CONSTANT,GRAVITATIONAL_CONSTANT,SPEED_OF_LIGHT\n",
    "#OR\n",
    "from Constant import *         #Constant.py\n",
    "def Area(radius):\n",
    "    area=PI*radius**2\n",
    "    return area\n",
    "print(Area(5))\n",
    "\n",
    "def Energy(frequency):\n",
    "    energy=PLANCK_CONSTANT*frequency\n",
    "    return energy\n",
    "print(Energy(780))"
   ]
  },
  {
   "cell_type": "code",
   "execution_count": 1,
   "metadata": {},
   "outputs": [
    {
     "name": "stdout",
     "output_type": "stream",
     "text": [
      "55\n",
      "9.96551724137931\n",
      "2844072\n",
      "0.6806553607358437\n"
     ]
    }
   ],
   "source": [
    "#Question 12. Write a Python module named calculator.py containing functions for addition, subtraction, multiplication, and division.\n",
    "\n",
    "from  Calculator import Calcu\n",
    "calcu=Calcu()\n",
    "\n",
    "print(calcu.Add(23,32))\n",
    "print(calcu.Div(2312,232))\n",
    "print(calcu.Mul(12312,231))\n",
    "print(calcu.Div(21312,31311))"
   ]
  },
  {
   "cell_type": "code",
   "execution_count": 4,
   "metadata": {},
   "outputs": [
    {
     "ename": "ImportError",
     "evalue": "cannot import name 'Product' from 'ecommerce.Product_management' (c:\\Users\\Lenovo\\Desktop\\pwds\\AssignPr\\ecommerce\\Product_management\\__init__.py)",
     "output_type": "error",
     "traceback": [
      "\u001b[1;31m---------------------------------------------------------------------------\u001b[0m",
      "\u001b[1;31mImportError\u001b[0m                               Traceback (most recent call last)",
      "Cell \u001b[1;32mIn[4], line 5\u001b[0m\n\u001b[0;32m      1\u001b[0m \u001b[38;5;66;03m#Question 13: . Implement a Python package structure for a project named ecommerce, containing modules for product management and order processing. \u001b[39;00m\n\u001b[0;32m      2\u001b[0m \n\u001b[0;32m      3\u001b[0m \u001b[38;5;66;03m#test_ecommerce.py\u001b[39;00m\n\u001b[1;32m----> 5\u001b[0m \u001b[38;5;28;01mfrom\u001b[39;00m \u001b[38;5;21;01mecommerce\u001b[39;00m\u001b[38;5;21;01m.\u001b[39;00m\u001b[38;5;21;01mProduct_management\u001b[39;00m \u001b[38;5;28;01mimport\u001b[39;00m Product,ProductManager\n",
      "\u001b[1;31mImportError\u001b[0m: cannot import name 'Product' from 'ecommerce.Product_management' (c:\\Users\\Lenovo\\Desktop\\pwds\\AssignPr\\ecommerce\\Product_management\\__init__.py)"
     ]
    }
   ],
   "source": [
    "#Question 13: . Implement a Python package structure for a project named ecommerce, containing modules for product management and order processing. \n",
    "\n",
    "#test_ecommerce.py\n",
    "\n",
    "from ecommerce.Product_management import Product,ProductManager\n"
   ]
  },
  {
   "cell_type": "code",
   "execution_count": 19,
   "metadata": {},
   "outputs": [
    {
     "ename": "ImportError",
     "evalue": "cannot import name 'OrderManager' from 'ecommerce.Order_processing.order' (c:\\Users\\Lenovo\\Desktop\\pwds\\AssignPr\\ecommerce\\Order_processing\\order.py)",
     "output_type": "error",
     "traceback": [
      "\u001b[1;31m---------------------------------------------------------------------------\u001b[0m",
      "\u001b[1;31mImportError\u001b[0m                               Traceback (most recent call last)",
      "Cell \u001b[1;32mIn[19], line 4\u001b[0m\n\u001b[0;32m      1\u001b[0m \u001b[38;5;66;03m# test_ecommerce.py\u001b[39;00m\n\u001b[0;32m      3\u001b[0m \u001b[38;5;28;01mfrom\u001b[39;00m \u001b[38;5;21;01mecommerce\u001b[39;00m\u001b[38;5;21;01m.\u001b[39;00m\u001b[38;5;21;01mProduct_management\u001b[39;00m\u001b[38;5;21;01m.\u001b[39;00m\u001b[38;5;21;01mproduct\u001b[39;00m \u001b[38;5;28;01mimport\u001b[39;00m Product, ProductManager\n\u001b[1;32m----> 4\u001b[0m \u001b[38;5;28;01mfrom\u001b[39;00m \u001b[38;5;21;01mecommerce\u001b[39;00m\u001b[38;5;21;01m.\u001b[39;00m\u001b[38;5;21;01mOrder_processing\u001b[39;00m\u001b[38;5;21;01m.\u001b[39;00m\u001b[38;5;21;01morder\u001b[39;00m \u001b[38;5;28;01mimport\u001b[39;00m Order,OrderManager\n\u001b[0;32m      6\u001b[0m \u001b[38;5;28;01mdef\u001b[39;00m \u001b[38;5;21mmain\u001b[39m():\n\u001b[0;32m      7\u001b[0m     \u001b[38;5;66;03m# Create instances of ProductManager and OrderManager\u001b[39;00m\n\u001b[0;32m      8\u001b[0m     product_manager \u001b[38;5;241m=\u001b[39m ProductManager()\n",
      "\u001b[1;31mImportError\u001b[0m: cannot import name 'OrderManager' from 'ecommerce.Order_processing.order' (c:\\Users\\Lenovo\\Desktop\\pwds\\AssignPr\\ecommerce\\Order_processing\\order.py)"
     ]
    }
   ],
   "source": [
    "# test_ecommerce.py\n",
    "\n",
    "from ecommerce.Product_management.product import Product, ProductManager\n",
    "from ecommerce.Order_processing.order import Order,OrderManager\n",
    "\n",
    "def main():\n",
    "    # Create instances of ProductManager and OrderManager\n",
    "    product_manager = ProductManager()\n",
    "    order_manager = OrderManager()\n",
    "\n",
    "    # Create and add some products\n",
    "    product1 = Product(1, \"Laptop\", \"A high-performance laptop\", 1500.00, 10)\n",
    "    product2 = Product(2, \"Smartphone\", \"A latest model smartphone\", 800.00, 20)\n",
    "\n",
    "    product_manager.add_product(product1)\n",
    "    product_manager.add_product(product2)\n",
    "\n",
    "    # Display product details\n",
    "    print(\"Initial Product Details:\")\n",
    "    print(product_manager.get_product(1))\n",
    "    print(product_manager.get_product(2))\n",
    "\n",
    "    # Update product details\n",
    "    product_manager.update_product(1, price=1400.00, stock=15)\n",
    "    product_manager.update_product(2, stock=18)\n",
    "\n",
    "    # Display updated product details\n",
    "    print(\"\\nUpdated Product Details:\")\n",
    "    print(product_manager.get_product(1))\n",
    "    print(product_manager.get_product(2))\n",
    "\n",
    "    # Create and manage orders\n",
    "    order1 = order_manager.create_order(1, product1, 2)\n",
    "    order2 = order_manager.create_order(2, product2, 1)\n",
    "\n",
    "    # Display order details\n",
    "    print(\"\\nOrder Details:\")\n",
    "    print(order1)\n",
    "    print(order2)\n",
    "\n",
    "    # Update order status\n",
    "    order_manager.update_order_status(1, \"Shipped\")\n",
    "    order_manager.update_order_status(2, \"Completed\")\n",
    "\n",
    "    # Display updated order details\n",
    "    print(\"\\nUpdated Order Details:\")\n",
    "    print(order1)\n",
    "    print(order2)\n",
    "\n",
    "if __name__ == \"__main__\":\n",
    "    main()\n"
   ]
  },
  {
   "cell_type": "code",
   "execution_count": 3,
   "metadata": {},
   "outputs": [
    {
     "ename": "AttributeError",
     "evalue": "'ProductManager' object has no attribute 'product'",
     "output_type": "error",
     "traceback": [
      "\u001b[1;31m---------------------------------------------------------------------------\u001b[0m",
      "\u001b[1;31mAttributeError\u001b[0m                            Traceback (most recent call last)",
      "Cell \u001b[1;32mIn[3], line 49\u001b[0m\n\u001b[0;32m     46\u001b[0m     \u001b[38;5;28mprint\u001b[39m(order2)\n\u001b[0;32m     48\u001b[0m \u001b[38;5;28;01mif\u001b[39;00m \u001b[38;5;18m__name__\u001b[39m \u001b[38;5;241m==\u001b[39m \u001b[38;5;124m\"\u001b[39m\u001b[38;5;124m__main__\u001b[39m\u001b[38;5;124m\"\u001b[39m:\n\u001b[1;32m---> 49\u001b[0m     main()\n",
      "Cell \u001b[1;32mIn[3], line 13\u001b[0m, in \u001b[0;36mmain\u001b[1;34m()\u001b[0m\n\u001b[0;32m     10\u001b[0m product1 \u001b[38;5;241m=\u001b[39m Product(\u001b[38;5;241m1\u001b[39m, \u001b[38;5;124m\"\u001b[39m\u001b[38;5;124mLaptop\u001b[39m\u001b[38;5;124m\"\u001b[39m, \u001b[38;5;124m\"\u001b[39m\u001b[38;5;124mA high-performance laptop\u001b[39m\u001b[38;5;124m\"\u001b[39m, \u001b[38;5;241m1500.00\u001b[39m, \u001b[38;5;241m10\u001b[39m)\n\u001b[0;32m     11\u001b[0m product2 \u001b[38;5;241m=\u001b[39m Product(\u001b[38;5;241m2\u001b[39m, \u001b[38;5;124m\"\u001b[39m\u001b[38;5;124mSmartphone\u001b[39m\u001b[38;5;124m\"\u001b[39m, \u001b[38;5;124m\"\u001b[39m\u001b[38;5;124mA latest model smartphone\u001b[39m\u001b[38;5;124m\"\u001b[39m, \u001b[38;5;241m800.00\u001b[39m, \u001b[38;5;241m20\u001b[39m)\n\u001b[1;32m---> 13\u001b[0m product_manager\u001b[38;5;241m.\u001b[39madd_product(product1)\n\u001b[0;32m     14\u001b[0m product_manager\u001b[38;5;241m.\u001b[39madd_product(product2)\n\u001b[0;32m     16\u001b[0m \u001b[38;5;66;03m# Display product details\u001b[39;00m\n",
      "File \u001b[1;32mc:\\Users\\Lenovo\\Desktop\\pwds\\AssignPr\\ecommerce\\Product_management\\product.py:24\u001b[0m, in \u001b[0;36mProductManager.add_product\u001b[1;34m(self, product)\u001b[0m\n\u001b[0;32m     23\u001b[0m \u001b[38;5;28;01mdef\u001b[39;00m \u001b[38;5;21madd_product\u001b[39m(\u001b[38;5;28mself\u001b[39m, product):\n\u001b[1;32m---> 24\u001b[0m     \u001b[38;5;28mself\u001b[39m\u001b[38;5;241m.\u001b[39mproduct[product\u001b[38;5;241m.\u001b[39mproduct_id] \u001b[38;5;241m=\u001b[39m product\n",
      "\u001b[1;31mAttributeError\u001b[0m: 'ProductManager' object has no attribute 'product'"
     ]
    }
   ],
   "source": [
    "from ecommerce.Product_management.product import Product, ProductManager\n",
    "from ecommerce.Order_processing.order import Order, OrderManger\n",
    "\n",
    "def main():\n",
    "    # Create instances of ProductManager and OrderManager\n",
    "    product_manager = ProductManager()\n",
    "    order_manager = OrderManger()\n",
    "\n",
    "    # Create and add some products\n",
    "    product1 = Product(1, \"Laptop\", \"A high-performance laptop\", 1500.00, 10)\n",
    "    product2 = Product(2, \"Smartphone\", \"A latest model smartphone\", 800.00, 20)\n",
    "\n",
    "    product_manager.add_product(product1)\n",
    "    product_manager.add_product(product2)\n",
    "\n",
    "    # Display product details\n",
    "    print(\"Initial Product Details:\")\n",
    "    print(product_manager.get_product(1))\n",
    "    print(product_manager.get_product(2))\n",
    "\n",
    "    # Update product details\n",
    "    product_manager.update_product(1, price=1400.00, stock=15)\n",
    "    product_manager.update_product(2, stock=18)\n",
    "\n",
    "    # Display updated product details\n",
    "    print(\"\\nUpdated Product Details:\")\n",
    "    print(product_manager.get_product(1))\n",
    "    print(product_manager.get_product(2))\n",
    "\n",
    "    # Create and manage orders\n",
    "    order1 = order_manager.create_order(1, product1, 2)\n",
    "    order2 = order_manager.create_order(2, product2, 1)\n",
    "\n",
    "    # Display order details\n",
    "    print(\"\\nOrder Details:\")\n",
    "    print(order1)\n",
    "    print(order2)\n",
    "\n",
    "    # Update order status\n",
    "    order_manager.update_order_status(1, \"Shipped\")\n",
    "    order_manager.update_order_status(2, \"Completed\")\n",
    "\n",
    "    # Display updated order details\n",
    "    print(\"\\nUpdated Order Details:\")\n",
    "    print(order1)\n",
    "    print(order2)\n",
    "\n",
    "if __name__ == \"__main__\":\n",
    "    main()"
   ]
  },
  {
   "cell_type": "code",
   "execution_count": 27,
   "metadata": {},
   "outputs": [
    {
     "name": "stdout",
     "output_type": "stream",
     "text": [
      "!uoy era woH jN rm olleH\n",
      "HELLO MR NJ HOW ARE YOU!\n"
     ]
    }
   ],
   "source": [
    "#Question 14. Implement a Python module named string_utils.py containing functions for string manipulation, such as reversing and capitalizing strings.\n",
    "\n",
    "from string_utils import str_capitalisation,str_reversing \n",
    "string=\"Hello mr Nj How are you!\"\n",
    "print(str_reversing(string))\n",
    "print(str_capitalisation(string))"
   ]
  },
  {
   "cell_type": "code",
   "execution_count": 2,
   "metadata": {},
   "outputs": [
    {
     "name": "stdout",
     "output_type": "stream",
     "text": [
      "None\n"
     ]
    }
   ],
   "source": [
    "#Qusetion 15. Write a Python module named file_operations.py with functions for reading, writing, and appending data to a file. \n",
    "from file_operations import Reading,Writing,Appending\n",
    "#wrting in file\n",
    "Writing('conversion.txt','Hello, how are you mr nj?\\nFine!\\nTell about yourself.')\n",
    "\n",
    "#appending in the file\n",
    "Appending('conversion.txt','\\nNothing good, just going with flow')\n",
    "\n",
    "# reading the file\n",
    "content=Reading('conversion.txt')\n",
    "print(content)\n",
    "\n",
    "\n",
    "#output will be a file which are conversion.txt"
   ]
  },
  {
   "cell_type": "code",
   "execution_count": 7,
   "metadata": {},
   "outputs": [
    {
     "name": "stdout",
     "output_type": "stream",
     "text": [
      "Name\tAge\tSalary\n",
      "Nihal\t22\t00000000\n",
      "\n"
     ]
    }
   ],
   "source": [
    "#Question 16. Write a Python program to create a text file named \"employees.txt\" and write the details of employees, including their name, age, and salary, into the file. \n",
    "\n",
    "with open('employee.txt','w') as file:\n",
    "    file.write(\"Name\\tAge\\tSalary\\n\")\n",
    "    file.write(\"Nihal\\t22\\t00000000\\n\")\n",
    "    \n",
    "with open('employee.txt','r') as file:  \n",
    "    print(file.read()) "
   ]
  },
  {
   "cell_type": "code",
   "execution_count": 13,
   "metadata": {},
   "outputs": [
    {
     "name": "stdout",
     "output_type": "stream",
     "text": [
      "\n",
      "In Python, file operations are essential for reading, writing, and appending data.\n",
      "To work with files, Python provides a built-in `open()` function, which is used to open files in different modes:\n",
      "read (`'r'`), write (`'w'`), and append (`'a'`). \n",
      "When reading a file, methods such as `read()`, `readline()`, and `readlines()` can be used to retrieve content in various formats.\n",
      "Writing to a file involves using the `write()` method, which will overwrite the existing content if the file is opened in write mode, or the `append()` method to add content to the end of the file without deleting the existing data when opened in append mode.\n",
      "Using the `with open()` statement is a best practice as it ensures the file is properly closed after the operations are completed, which is crucial for preventing data loss and file corruption. \n",
      "Error handling with `try` and `except` blocks is also recommended to manage any potential issues that may arise during file operations, such as file not found errors or input/output errors. By mastering these file operations, one can efficiently manage data storage and retrieval in Python applications.\n",
      "\n"
     ]
    }
   ],
   "source": [
    "#Question 17: Develop a Python script that opens an existing text file named \"inventory.txt\" in read mode and displays the contents of the file line by line.\n",
    "\n",
    "content = \"\"\"\n",
    "In Python, file operations are essential for reading, writing, and appending data.\n",
    "To work with files, Python provides a built-in `open()` function, which is used to open files in different modes:\n",
    "read (`'r'`), write (`'w'`), and append (`'a'`). \n",
    "When reading a file, methods such as `read()`, `readline()`, and `readlines()` can be used to retrieve content in various formats.\n",
    "Writing to a file involves using the `write()` method, which will overwrite the existing content if the file is opened in write mode, or the `append()` method to add content to the end of the file without deleting the existing data when opened in append mode.\n",
    "Using the `with open()` statement is a best practice as it ensures the file is properly closed after the operations are completed, which is crucial for preventing data loss and file corruption. \n",
    "Error handling with `try` and `except` blocks is also recommended to manage any potential issues that may arise during file operations, such as file not found errors or input/output errors. By mastering these file operations, one can efficiently manage data storage and retrieval in Python applications.\n",
    "\"\"\"\n",
    "with open('inventory.txt','w') as file :\n",
    "    file.write(content)\n",
    "\n",
    "with open('inventory.txt','r') as file :\n",
    "    print(file.read())    "
   ]
  },
  {
   "cell_type": "code",
   "execution_count": 2,
   "metadata": {},
   "outputs": [
    {
     "name": "stdout",
     "output_type": "stream",
     "text": [
      "Toatal amount spent on various expenses: $3200.00\n"
     ]
    }
   ],
   "source": [
    "#Question 18. Create a Python script that reads a text file named \"expenses.txt\" and calculates the total amount spent on various expenses listed in the file. \n",
    "\n",
    "def read_expensess(file_path):\n",
    "    expense={}\n",
    "    with open(file_path,'r') as file:\n",
    "        for line in file:\n",
    "            if ':' in line:\n",
    "                key,value=line.split(':')\n",
    "                key=key.strip()\n",
    "                value=value.strip()\n",
    "                expense[key]=float(value)\n",
    "    return expense\n",
    "\n",
    "def calculate_total_expenses(expense):\n",
    "    total=sum(expense.values())\n",
    "    return total\n",
    "\n",
    "#mainprocess start here\n",
    "file_path='expenses.txt'   \n",
    "expense=read_expensess(file_path)\n",
    "total=calculate_total_expenses(expense)    \n",
    "print(f\"Toatal amount spent on various expenses: ${total:.2f}\")     "
   ]
  },
  {
   "cell_type": "code",
   "execution_count": 11,
   "metadata": {},
   "outputs": [
    {
     "name": "stdout",
     "output_type": "stream",
     "text": [
      "Nihal:1\n",
      "Python:2\n",
      "Very:1\n",
      "high-level:1\n",
      "is:1\n",
      "knowing:1\n",
      "language.:1\n",
      "well.:1\n"
     ]
    }
   ],
   "source": [
    "#Question 19. Create a Python program that reads a text file named \"paragraph.txt\" and counts the occurrences of each word in the paragraph, displaying the results in alphabetical order. \n",
    "with open('paragraph.txt','w') as file:\n",
    "    file.write(\"Python is high-level language.\\nNihal knowing Python Very well.\")\n",
    "\n",
    "with open('paragraph.txt','r') as file:\n",
    "    text=file.read()    \n",
    "    word=text.split()\n",
    "    word_count={}\n",
    "    for i in word:\n",
    "        if i in word_count:\n",
    "            word_count[i]+=1\n",
    "            \n",
    "        else:\n",
    "            word_count[i]=1\n",
    "#sort the word count dictionary by key(word)\n",
    "sorded_sord_count=dict(sorted(word_count.items())) \n",
    "\n",
    "#display the results\n",
    "for word,count in sorded_sord_count.items():\n",
    "    print(f\"{word}:{count}\")\n"
   ]
  },
  {
   "cell_type": "code",
   "execution_count": null,
   "metadata": {},
   "outputs": [],
   "source": []
  },
  {
   "cell_type": "code",
   "execution_count": null,
   "metadata": {},
   "outputs": [],
   "source": []
  },
  {
   "cell_type": "code",
   "execution_count": null,
   "metadata": {},
   "outputs": [],
   "source": []
  },
  {
   "cell_type": "code",
   "execution_count": null,
   "metadata": {},
   "outputs": [],
   "source": []
  },
  {
   "cell_type": "code",
   "execution_count": null,
   "metadata": {},
   "outputs": [],
   "source": []
  },
  {
   "cell_type": "code",
   "execution_count": null,
   "metadata": {},
   "outputs": [],
   "source": []
  },
  {
   "cell_type": "code",
   "execution_count": null,
   "metadata": {},
   "outputs": [],
   "source": []
  },
  {
   "cell_type": "code",
   "execution_count": null,
   "metadata": {},
   "outputs": [],
   "source": []
  }
 ],
 "metadata": {
  "kernelspec": {
   "display_name": "base",
   "language": "python",
   "name": "python3"
  },
  "language_info": {
   "codemirror_mode": {
    "name": "ipython",
    "version": 3
   },
   "file_extension": ".py",
   "mimetype": "text/x-python",
   "name": "python",
   "nbconvert_exporter": "python",
   "pygments_lexer": "ipython3",
   "version": "3.11.7"
  }
 },
 "nbformat": 4,
 "nbformat_minor": 2
}
